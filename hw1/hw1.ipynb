{
 "cells": [
  {
   "cell_type": "code",
   "execution_count": null,
   "outputs": [],
   "source": [
    "# Homework 1. Daniil Morozkov. 09/05/2023."
   ],
   "metadata": {
    "collapsed": false
   },
   "id": "d07bc7c3a1c8d6f9"
  },
  {
   "cell_type": "code",
   "execution_count": 1,
   "outputs": [],
   "source": [
    "# import libraries\n",
    "import pandas as pd\n",
    "import numpy as np"
   ],
   "metadata": {
    "collapsed": false,
    "ExecuteTime": {
     "start_time": "2023-09-05T21:20:51.143978700Z"
    }
   },
   "id": "initial_id"
  },
  {
   "cell_type": "code",
   "execution_count": 2,
   "outputs": [],
   "source": [
    "# upload data\n",
    "df_BND = pd.read_csv('BND.csv')\n",
    "df_SPY = pd.read_csv('SPY.csv')"
   ],
   "metadata": {
    "collapsed": false,
    "ExecuteTime": {
     "end_time": "2023-09-05T21:20:51.520819500Z",
     "start_time": "2023-09-05T21:20:51.485757200Z"
    }
   },
   "id": "a831e4dc43362084"
  },
  {
   "cell_type": "code",
   "execution_count": 3,
   "outputs": [],
   "source": [
    "# making sure that the resulting dataframes are indexed by date\n",
    "df_BND.set_index('Date', inplace=True)\n",
    "df_SPY.set_index('Date', inplace=True)"
   ],
   "metadata": {
    "collapsed": false,
    "ExecuteTime": {
     "end_time": "2023-09-05T21:20:51.539819600Z",
     "start_time": "2023-09-05T21:20:51.516819500Z"
    }
   },
   "id": "94909d11ed998a5b"
  },
  {
   "cell_type": "code",
   "execution_count": 4,
   "outputs": [
    {
     "data": {
      "text/plain": "(                 Open      Close  Adj Close\n Date                                       \n 2007-04-10  75.070000  75.239998  45.815971\n 2007-04-11  75.160004  75.040001  45.694145\n 2007-04-12  75.059998  75.029999  45.688072\n 2007-04-13  75.040001  74.910004  45.615028\n 2007-04-16  74.989998  74.980003  45.657650\n ...               ...        ...        ...\n 2023-08-21  70.610001  70.529999  70.529999\n 2023-08-22  70.550003  70.620003  70.620003\n 2023-08-23  70.980003  71.260002  71.260002\n 2023-08-24  71.150002  71.089996  71.089996\n 2023-08-25  71.010002  71.089996  71.089996\n \n [4125 rows x 3 columns],\n                   Open       Close   Adj Close\n Date                                          \n 1993-01-29   43.968750   43.937500   25.029371\n 1993-02-01   43.968750   44.250000   25.207384\n 1993-02-02   44.218750   44.343750   25.260788\n 1993-02-03   44.406250   44.812500   25.527826\n 1993-02-04   44.968750   45.000000   25.634632\n ...                ...         ...         ...\n 2023-08-21  437.549988  439.339996  439.339996\n 2023-08-22  441.179993  438.149994  438.149994\n 2023-08-23  439.250000  443.029999  443.029999\n 2023-08-24  444.690002  436.890015  436.890015\n 2023-08-25  438.679993  439.970001  439.970001\n \n [7699 rows x 3 columns])"
     },
     "execution_count": 4,
     "metadata": {},
     "output_type": "execute_result"
    }
   ],
   "source": [
    "# extract the needed columns\n",
    "df_BND = df_BND[['Open','Close','Adj Close']]\n",
    "df_SPY = df_SPY[['Open','Close','Adj Close']]\n",
    "df_BND, df_SPY"
   ],
   "metadata": {
    "collapsed": false,
    "ExecuteTime": {
     "end_time": "2023-09-05T21:20:51.566819400Z",
     "start_time": "2023-09-05T21:20:51.536820400Z"
    }
   },
   "id": "35bb95557ea2bcef"
  },
  {
   "cell_type": "code",
   "execution_count": 5,
   "outputs": [],
   "source": [
    "# Create a new dataframe that contains the open, close, and adjusted close prices for both SPY and BND on the dates for which there is data for SPY\n",
    "df_merged = df_BND.merge(df_SPY, left_on=df_BND.index, right_on=df_SPY.index, suffixes=('_BND', '_SPY'))"
   ],
   "metadata": {
    "collapsed": false,
    "ExecuteTime": {
     "end_time": "2023-09-05T21:20:51.593819400Z",
     "start_time": "2023-09-05T21:20:51.569819400Z"
    }
   },
   "id": "a1d8f3c960bc8ca3"
  },
  {
   "cell_type": "code",
   "execution_count": 6,
   "outputs": [
    {
     "data": {
      "text/plain": "        key_0   Open_BND  Close_BND  Adj Close_BND    Open_SPY   Close_SPY  \\\n0  2007-04-10  75.070000  75.239998      45.815971  144.330002  144.610001   \n1  2007-04-11  75.160004  75.040001      45.694145  144.820007  144.020004   \n2  2007-04-12  75.059998  75.029999      45.688072  143.740005  144.660004   \n3  2007-04-13  75.040001  74.910004      45.615028  144.899994  145.320007   \n4  2007-04-16  74.989998  74.980003      45.657650  145.830002  146.699997   \n5  2007-04-17  75.160004  75.169998      45.773342  146.970001  147.089996   \n6  2007-04-18  75.250000  75.309998      45.858589  146.600006  147.270004   \n7  2007-04-19  75.360001  75.279999      45.840321  146.550003  147.229996   \n8  2007-04-20  75.300003  75.260002      45.828156  148.220001  148.619995   \n9  2007-04-23  75.279999  75.360001      45.889053  148.369995  148.059998   \n\n   Adj Close_SPY  \n0     105.394196  \n1     104.964134  \n2     105.430611  \n3     105.911636  \n4     106.917336  \n5     107.201607  \n6     107.332817  \n7     107.303627  \n8     108.316711  \n9     107.908585  ",
      "text/html": "<div>\n<style scoped>\n    .dataframe tbody tr th:only-of-type {\n        vertical-align: middle;\n    }\n\n    .dataframe tbody tr th {\n        vertical-align: top;\n    }\n\n    .dataframe thead th {\n        text-align: right;\n    }\n</style>\n<table border=\"1\" class=\"dataframe\">\n  <thead>\n    <tr style=\"text-align: right;\">\n      <th></th>\n      <th>key_0</th>\n      <th>Open_BND</th>\n      <th>Close_BND</th>\n      <th>Adj Close_BND</th>\n      <th>Open_SPY</th>\n      <th>Close_SPY</th>\n      <th>Adj Close_SPY</th>\n    </tr>\n  </thead>\n  <tbody>\n    <tr>\n      <th>0</th>\n      <td>2007-04-10</td>\n      <td>75.070000</td>\n      <td>75.239998</td>\n      <td>45.815971</td>\n      <td>144.330002</td>\n      <td>144.610001</td>\n      <td>105.394196</td>\n    </tr>\n    <tr>\n      <th>1</th>\n      <td>2007-04-11</td>\n      <td>75.160004</td>\n      <td>75.040001</td>\n      <td>45.694145</td>\n      <td>144.820007</td>\n      <td>144.020004</td>\n      <td>104.964134</td>\n    </tr>\n    <tr>\n      <th>2</th>\n      <td>2007-04-12</td>\n      <td>75.059998</td>\n      <td>75.029999</td>\n      <td>45.688072</td>\n      <td>143.740005</td>\n      <td>144.660004</td>\n      <td>105.430611</td>\n    </tr>\n    <tr>\n      <th>3</th>\n      <td>2007-04-13</td>\n      <td>75.040001</td>\n      <td>74.910004</td>\n      <td>45.615028</td>\n      <td>144.899994</td>\n      <td>145.320007</td>\n      <td>105.911636</td>\n    </tr>\n    <tr>\n      <th>4</th>\n      <td>2007-04-16</td>\n      <td>74.989998</td>\n      <td>74.980003</td>\n      <td>45.657650</td>\n      <td>145.830002</td>\n      <td>146.699997</td>\n      <td>106.917336</td>\n    </tr>\n    <tr>\n      <th>5</th>\n      <td>2007-04-17</td>\n      <td>75.160004</td>\n      <td>75.169998</td>\n      <td>45.773342</td>\n      <td>146.970001</td>\n      <td>147.089996</td>\n      <td>107.201607</td>\n    </tr>\n    <tr>\n      <th>6</th>\n      <td>2007-04-18</td>\n      <td>75.250000</td>\n      <td>75.309998</td>\n      <td>45.858589</td>\n      <td>146.600006</td>\n      <td>147.270004</td>\n      <td>107.332817</td>\n    </tr>\n    <tr>\n      <th>7</th>\n      <td>2007-04-19</td>\n      <td>75.360001</td>\n      <td>75.279999</td>\n      <td>45.840321</td>\n      <td>146.550003</td>\n      <td>147.229996</td>\n      <td>107.303627</td>\n    </tr>\n    <tr>\n      <th>8</th>\n      <td>2007-04-20</td>\n      <td>75.300003</td>\n      <td>75.260002</td>\n      <td>45.828156</td>\n      <td>148.220001</td>\n      <td>148.619995</td>\n      <td>108.316711</td>\n    </tr>\n    <tr>\n      <th>9</th>\n      <td>2007-04-23</td>\n      <td>75.279999</td>\n      <td>75.360001</td>\n      <td>45.889053</td>\n      <td>148.369995</td>\n      <td>148.059998</td>\n      <td>107.908585</td>\n    </tr>\n  </tbody>\n</table>\n</div>"
     },
     "execution_count": 6,
     "metadata": {},
     "output_type": "execute_result"
    }
   ],
   "source": [
    "# Display the top 10 rows of the dataframe\n",
    "df_merged.head(10)"
   ],
   "metadata": {
    "collapsed": false,
    "ExecuteTime": {
     "end_time": "2023-09-05T21:20:51.596819600Z",
     "start_time": "2023-09-05T21:20:51.581819300Z"
    }
   },
   "id": "703950b863729c04"
  },
  {
   "cell_type": "code",
   "execution_count": 7,
   "outputs": [
    {
     "data": {
      "text/plain": "          Open_BND    Close_BND  Adj Close_BND     Open_SPY    Close_SPY  \\\ncount  4125.000000  4125.000000    4125.000000  4125.000000  4125.000000   \nmean     80.850211    80.846104      65.417528   226.837542   226.865413   \nstd       3.844160     3.843403       9.841907   106.421845   106.446608   \nmin      69.139999    69.379997      44.925869    67.949997    68.110001   \n25%      78.730003    78.750000      58.471199   136.160004   136.289993   \n50%      81.370003    81.370003      66.215630   204.440002   204.839996   \n75%      83.519997    83.510002      71.507721   290.000000   289.809998   \nmax      89.550003    89.480003      83.170212   479.220001   477.709991   \n\n       Adj Close_SPY  \ncount    4125.000000  \nmean      204.232670  \nstd       113.173953  \nmin        51.568031  \n25%       106.437988  \n50%       176.826675  \n75%       269.911499  \nmax       466.563324  ",
      "text/html": "<div>\n<style scoped>\n    .dataframe tbody tr th:only-of-type {\n        vertical-align: middle;\n    }\n\n    .dataframe tbody tr th {\n        vertical-align: top;\n    }\n\n    .dataframe thead th {\n        text-align: right;\n    }\n</style>\n<table border=\"1\" class=\"dataframe\">\n  <thead>\n    <tr style=\"text-align: right;\">\n      <th></th>\n      <th>Open_BND</th>\n      <th>Close_BND</th>\n      <th>Adj Close_BND</th>\n      <th>Open_SPY</th>\n      <th>Close_SPY</th>\n      <th>Adj Close_SPY</th>\n    </tr>\n  </thead>\n  <tbody>\n    <tr>\n      <th>count</th>\n      <td>4125.000000</td>\n      <td>4125.000000</td>\n      <td>4125.000000</td>\n      <td>4125.000000</td>\n      <td>4125.000000</td>\n      <td>4125.000000</td>\n    </tr>\n    <tr>\n      <th>mean</th>\n      <td>80.850211</td>\n      <td>80.846104</td>\n      <td>65.417528</td>\n      <td>226.837542</td>\n      <td>226.865413</td>\n      <td>204.232670</td>\n    </tr>\n    <tr>\n      <th>std</th>\n      <td>3.844160</td>\n      <td>3.843403</td>\n      <td>9.841907</td>\n      <td>106.421845</td>\n      <td>106.446608</td>\n      <td>113.173953</td>\n    </tr>\n    <tr>\n      <th>min</th>\n      <td>69.139999</td>\n      <td>69.379997</td>\n      <td>44.925869</td>\n      <td>67.949997</td>\n      <td>68.110001</td>\n      <td>51.568031</td>\n    </tr>\n    <tr>\n      <th>25%</th>\n      <td>78.730003</td>\n      <td>78.750000</td>\n      <td>58.471199</td>\n      <td>136.160004</td>\n      <td>136.289993</td>\n      <td>106.437988</td>\n    </tr>\n    <tr>\n      <th>50%</th>\n      <td>81.370003</td>\n      <td>81.370003</td>\n      <td>66.215630</td>\n      <td>204.440002</td>\n      <td>204.839996</td>\n      <td>176.826675</td>\n    </tr>\n    <tr>\n      <th>75%</th>\n      <td>83.519997</td>\n      <td>83.510002</td>\n      <td>71.507721</td>\n      <td>290.000000</td>\n      <td>289.809998</td>\n      <td>269.911499</td>\n    </tr>\n    <tr>\n      <th>max</th>\n      <td>89.550003</td>\n      <td>89.480003</td>\n      <td>83.170212</td>\n      <td>479.220001</td>\n      <td>477.709991</td>\n      <td>466.563324</td>\n    </tr>\n  </tbody>\n</table>\n</div>"
     },
     "execution_count": 7,
     "metadata": {},
     "output_type": "execute_result"
    }
   ],
   "source": [
    "# Display set of summary statistics (mean and SD, etc.) for the entire dataframe using the ‘describe’ command\n",
    "df_merged.describe()"
   ],
   "metadata": {
    "collapsed": false,
    "ExecuteTime": {
     "end_time": "2023-09-05T21:20:51.621819400Z",
     "start_time": "2023-09-05T21:20:51.597819600Z"
    }
   },
   "id": "6ca3c484083e782c"
  },
  {
   "cell_type": "code",
   "execution_count": 8,
   "outputs": [],
   "source": [
    "# 2. Load data from the BND.csv file into a Pandas dataframe\n",
    "df_BND = pd.read_csv('BND.csv')"
   ],
   "metadata": {
    "collapsed": false,
    "ExecuteTime": {
     "end_time": "2023-09-05T21:20:51.639819300Z",
     "start_time": "2023-09-05T21:20:51.614820800Z"
    }
   },
   "id": "4d57f1d64ceabd38"
  },
  {
   "cell_type": "code",
   "execution_count": 9,
   "outputs": [
    {
     "data": {
      "text/plain": "            Date       Open       High        Low      Close  Adj Close  \\\n0     2007-04-10  75.070000  75.260002  75.000000  75.239998  45.815971   \n1     2007-04-11  75.160004  75.290001  75.029999  75.040001  45.694145   \n2     2007-04-12  75.059998  75.080002  74.959999  75.029999  45.688072   \n3     2007-04-13  75.040001  75.070000  74.849998  74.910004  45.615028   \n4     2007-04-16  74.989998  74.989998  74.940002  74.980003  45.657650   \n...          ...        ...        ...        ...        ...        ...   \n4120  2023-08-21  70.610001  70.639999  70.449997  70.529999  70.529999   \n4121  2023-08-22  70.550003  70.690002  70.480003  70.620003  70.620003   \n4122  2023-08-23  70.980003  71.269997  70.970001  71.260002  71.260002   \n4123  2023-08-24  71.150002  71.250000  71.070000  71.089996  71.089996   \n4124  2023-08-25  71.010002  71.220001  70.860001  71.089996  71.089996   \n\n       Volume  \n0       35000  \n1       87700  \n2       78100  \n3       18000  \n4       52700  \n...       ...  \n4120  4280100  \n4121  4302200  \n4122  5205800  \n4123  4186400  \n4124  4853100  \n\n[4125 rows x 7 columns]",
      "text/html": "<div>\n<style scoped>\n    .dataframe tbody tr th:only-of-type {\n        vertical-align: middle;\n    }\n\n    .dataframe tbody tr th {\n        vertical-align: top;\n    }\n\n    .dataframe thead th {\n        text-align: right;\n    }\n</style>\n<table border=\"1\" class=\"dataframe\">\n  <thead>\n    <tr style=\"text-align: right;\">\n      <th></th>\n      <th>Date</th>\n      <th>Open</th>\n      <th>High</th>\n      <th>Low</th>\n      <th>Close</th>\n      <th>Adj Close</th>\n      <th>Volume</th>\n    </tr>\n  </thead>\n  <tbody>\n    <tr>\n      <th>0</th>\n      <td>2007-04-10</td>\n      <td>75.070000</td>\n      <td>75.260002</td>\n      <td>75.000000</td>\n      <td>75.239998</td>\n      <td>45.815971</td>\n      <td>35000</td>\n    </tr>\n    <tr>\n      <th>1</th>\n      <td>2007-04-11</td>\n      <td>75.160004</td>\n      <td>75.290001</td>\n      <td>75.029999</td>\n      <td>75.040001</td>\n      <td>45.694145</td>\n      <td>87700</td>\n    </tr>\n    <tr>\n      <th>2</th>\n      <td>2007-04-12</td>\n      <td>75.059998</td>\n      <td>75.080002</td>\n      <td>74.959999</td>\n      <td>75.029999</td>\n      <td>45.688072</td>\n      <td>78100</td>\n    </tr>\n    <tr>\n      <th>3</th>\n      <td>2007-04-13</td>\n      <td>75.040001</td>\n      <td>75.070000</td>\n      <td>74.849998</td>\n      <td>74.910004</td>\n      <td>45.615028</td>\n      <td>18000</td>\n    </tr>\n    <tr>\n      <th>4</th>\n      <td>2007-04-16</td>\n      <td>74.989998</td>\n      <td>74.989998</td>\n      <td>74.940002</td>\n      <td>74.980003</td>\n      <td>45.657650</td>\n      <td>52700</td>\n    </tr>\n    <tr>\n      <th>...</th>\n      <td>...</td>\n      <td>...</td>\n      <td>...</td>\n      <td>...</td>\n      <td>...</td>\n      <td>...</td>\n      <td>...</td>\n    </tr>\n    <tr>\n      <th>4120</th>\n      <td>2023-08-21</td>\n      <td>70.610001</td>\n      <td>70.639999</td>\n      <td>70.449997</td>\n      <td>70.529999</td>\n      <td>70.529999</td>\n      <td>4280100</td>\n    </tr>\n    <tr>\n      <th>4121</th>\n      <td>2023-08-22</td>\n      <td>70.550003</td>\n      <td>70.690002</td>\n      <td>70.480003</td>\n      <td>70.620003</td>\n      <td>70.620003</td>\n      <td>4302200</td>\n    </tr>\n    <tr>\n      <th>4122</th>\n      <td>2023-08-23</td>\n      <td>70.980003</td>\n      <td>71.269997</td>\n      <td>70.970001</td>\n      <td>71.260002</td>\n      <td>71.260002</td>\n      <td>5205800</td>\n    </tr>\n    <tr>\n      <th>4123</th>\n      <td>2023-08-24</td>\n      <td>71.150002</td>\n      <td>71.250000</td>\n      <td>71.070000</td>\n      <td>71.089996</td>\n      <td>71.089996</td>\n      <td>4186400</td>\n    </tr>\n    <tr>\n      <th>4124</th>\n      <td>2023-08-25</td>\n      <td>71.010002</td>\n      <td>71.220001</td>\n      <td>70.860001</td>\n      <td>71.089996</td>\n      <td>71.089996</td>\n      <td>4853100</td>\n    </tr>\n  </tbody>\n</table>\n<p>4125 rows × 7 columns</p>\n</div>"
     },
     "execution_count": 9,
     "metadata": {},
     "output_type": "execute_result"
    }
   ],
   "source": [
    "# check if it is ok\n",
    "df_BND"
   ],
   "metadata": {
    "collapsed": false,
    "ExecuteTime": {
     "end_time": "2023-09-05T21:20:51.704819200Z",
     "start_time": "2023-09-05T21:20:51.627819700Z"
    }
   },
   "id": "1a0b3ff62892dec9"
  },
  {
   "cell_type": "code",
   "execution_count": 10,
   "outputs": [
    {
     "data": {
      "text/plain": "Date         2011-03-25\nOpen          80.360001\nHigh          80.389999\nLow           80.120003\nClose             80.18\nAdj Close     57.420677\nVolume           727400\nName: 999, dtype: object"
     },
     "execution_count": 10,
     "metadata": {},
     "output_type": "execute_result"
    }
   ],
   "source": [
    "# a. The 1000th row of the dataframe\n",
    "df_BND.iloc[999,:]"
   ],
   "metadata": {
    "collapsed": false,
    "ExecuteTime": {
     "end_time": "2023-09-05T21:20:51.789820700Z",
     "start_time": "2023-09-05T21:20:51.645819500Z"
    }
   },
   "id": "54ef0d32958ad1fa"
  },
  {
   "cell_type": "code",
   "execution_count": 11,
   "outputs": [
    {
     "data": {
      "text/plain": "           Date   Open       High        Low      Close  Adj Close   Volume\n795  2010-06-04  80.32  80.470001  80.239998  80.339996  55.876057  2046300",
      "text/html": "<div>\n<style scoped>\n    .dataframe tbody tr th:only-of-type {\n        vertical-align: middle;\n    }\n\n    .dataframe tbody tr th {\n        vertical-align: top;\n    }\n\n    .dataframe thead th {\n        text-align: right;\n    }\n</style>\n<table border=\"1\" class=\"dataframe\">\n  <thead>\n    <tr style=\"text-align: right;\">\n      <th></th>\n      <th>Date</th>\n      <th>Open</th>\n      <th>High</th>\n      <th>Low</th>\n      <th>Close</th>\n      <th>Adj Close</th>\n      <th>Volume</th>\n    </tr>\n  </thead>\n  <tbody>\n    <tr>\n      <th>795</th>\n      <td>2010-06-04</td>\n      <td>80.32</td>\n      <td>80.470001</td>\n      <td>80.239998</td>\n      <td>80.339996</td>\n      <td>55.876057</td>\n      <td>2046300</td>\n    </tr>\n  </tbody>\n</table>\n</div>"
     },
     "execution_count": 11,
     "metadata": {},
     "output_type": "execute_result"
    }
   ],
   "source": [
    "# b. The row of the dataframe corresponding to 6/4/2010.\n",
    "df_BND.loc[df_BND['Date']=='2010-06-04']"
   ],
   "metadata": {
    "collapsed": false,
    "ExecuteTime": {
     "end_time": "2023-09-05T21:20:51.832819Z",
     "start_time": "2023-09-05T21:20:51.659819200Z"
    }
   },
   "id": "192d7e26629dffc2"
  },
  {
   "cell_type": "code",
   "execution_count": 12,
   "outputs": [
    {
     "data": {
      "text/plain": "795    80.339996\nName: Close, dtype: float64"
     },
     "execution_count": 12,
     "metadata": {},
     "output_type": "execute_result"
    }
   ],
   "source": [
    "# c. The closing price of BND on 6/4/2010.\n",
    "df_BND['Close'].loc[df_BND['Date']=='2010-06-04']"
   ],
   "metadata": {
    "collapsed": false,
    "ExecuteTime": {
     "end_time": "2023-09-05T21:20:51.833818900Z",
     "start_time": "2023-09-05T21:20:51.676819900Z"
    }
   },
   "id": "ea5b4cd1af7a506d"
  },
  {
   "cell_type": "code",
   "execution_count": 13,
   "outputs": [
    {
     "data": {
      "text/plain": "           Date       Open      Close  Adj Close\n690  2010-01-04  78.599998  78.680000  53.897469\n691  2010-01-05  78.889999  78.910004  54.055008\n692  2010-01-06  78.970001  78.879997  54.034443\n693  2010-01-07  78.720001  78.820000  53.993355\n694  2010-01-08  78.879997  78.900002  54.048168",
      "text/html": "<div>\n<style scoped>\n    .dataframe tbody tr th:only-of-type {\n        vertical-align: middle;\n    }\n\n    .dataframe tbody tr th {\n        vertical-align: top;\n    }\n\n    .dataframe thead th {\n        text-align: right;\n    }\n</style>\n<table border=\"1\" class=\"dataframe\">\n  <thead>\n    <tr style=\"text-align: right;\">\n      <th></th>\n      <th>Date</th>\n      <th>Open</th>\n      <th>Close</th>\n      <th>Adj Close</th>\n    </tr>\n  </thead>\n  <tbody>\n    <tr>\n      <th>690</th>\n      <td>2010-01-04</td>\n      <td>78.599998</td>\n      <td>78.680000</td>\n      <td>53.897469</td>\n    </tr>\n    <tr>\n      <th>691</th>\n      <td>2010-01-05</td>\n      <td>78.889999</td>\n      <td>78.910004</td>\n      <td>54.055008</td>\n    </tr>\n    <tr>\n      <th>692</th>\n      <td>2010-01-06</td>\n      <td>78.970001</td>\n      <td>78.879997</td>\n      <td>54.034443</td>\n    </tr>\n    <tr>\n      <th>693</th>\n      <td>2010-01-07</td>\n      <td>78.720001</td>\n      <td>78.820000</td>\n      <td>53.993355</td>\n    </tr>\n    <tr>\n      <th>694</th>\n      <td>2010-01-08</td>\n      <td>78.879997</td>\n      <td>78.900002</td>\n      <td>54.048168</td>\n    </tr>\n  </tbody>\n</table>\n</div>"
     },
     "execution_count": 13,
     "metadata": {},
     "output_type": "execute_result"
    }
   ],
   "source": [
    "# d. The first 5 days of open, close, and adjusted close prices from the year 2010.\n",
    "df_BND[['Date','Open','Close','Adj Close']].loc[df_BND['Date']>='2010-01-01'].head(5)"
   ],
   "metadata": {
    "collapsed": false,
    "ExecuteTime": {
     "end_time": "2023-09-05T21:20:51.833818900Z",
     "start_time": "2023-09-05T21:20:51.691819300Z"
    }
   },
   "id": "41b6ce371c1b0708"
  },
  {
   "cell_type": "code",
   "execution_count": 14,
   "outputs": [
    {
     "data": {
      "text/plain": "Close        86.797783\nAdj Close    80.688729\ndtype: float64"
     },
     "execution_count": 14,
     "metadata": {},
     "output_type": "execute_result"
    }
   ],
   "source": [
    "# e. The average close and adjusted close prices on the days in which the BND close was greater than $85. \n",
    "df_BND[['Close','Adj Close']].loc[df_BND['Close']>85].mean()"
   ],
   "metadata": {
    "collapsed": false,
    "ExecuteTime": {
     "end_time": "2023-09-05T21:20:51.834819100Z",
     "start_time": "2023-09-05T21:20:51.707819Z"
    }
   },
   "id": "3ea2797501a79d8b"
  },
  {
   "cell_type": "code",
   "execution_count": 15,
   "outputs": [],
   "source": [
    "# 3. Load data from the SPY.csv file into a dataframe.  \n",
    "df_SPY = pd.read_csv('SPY.csv')"
   ],
   "metadata": {
    "collapsed": false,
    "ExecuteTime": {
     "end_time": "2023-09-05T21:20:51.834819100Z",
     "start_time": "2023-09-05T21:20:51.722819400Z"
    }
   },
   "id": "4e3143936c4c5a1"
  },
  {
   "cell_type": "code",
   "execution_count": 16,
   "outputs": [
    {
     "data": {
      "text/plain": "            Date        Open        High         Low       Close   Adj Close  \\\n0     1993-01-29   43.968750   43.968750   43.750000   43.937500   25.029371   \n1     1993-02-01   43.968750   44.250000   43.968750   44.250000   25.207384   \n2     1993-02-02   44.218750   44.375000   44.125000   44.343750   25.260788   \n3     1993-02-03   44.406250   44.843750   44.375000   44.812500   25.527826   \n4     1993-02-04   44.968750   45.093750   44.468750   45.000000   25.634632   \n...          ...         ...         ...         ...         ...         ...   \n7694  2023-08-21  437.549988  440.109985  435.320007  439.339996  439.339996   \n7695  2023-08-22  441.179993  441.179993  437.570007  438.149994  438.149994   \n7696  2023-08-23  439.250000  443.670013  439.100006  443.029999  443.029999   \n7697  2023-08-24  444.690002  445.220001  436.859985  436.890015  436.890015   \n7698  2023-08-25  438.679993  441.299988  435.000000  439.970001  439.970001   \n\n         Volume  \n0       1003200  \n1        480500  \n2        201300  \n3        529400  \n4        531500  \n...         ...  \n7694   68719000  \n7695   65062900  \n7696   68441000  \n7697   88517300  \n7698  102297000  \n\n[7699 rows x 7 columns]",
      "text/html": "<div>\n<style scoped>\n    .dataframe tbody tr th:only-of-type {\n        vertical-align: middle;\n    }\n\n    .dataframe tbody tr th {\n        vertical-align: top;\n    }\n\n    .dataframe thead th {\n        text-align: right;\n    }\n</style>\n<table border=\"1\" class=\"dataframe\">\n  <thead>\n    <tr style=\"text-align: right;\">\n      <th></th>\n      <th>Date</th>\n      <th>Open</th>\n      <th>High</th>\n      <th>Low</th>\n      <th>Close</th>\n      <th>Adj Close</th>\n      <th>Volume</th>\n    </tr>\n  </thead>\n  <tbody>\n    <tr>\n      <th>0</th>\n      <td>1993-01-29</td>\n      <td>43.968750</td>\n      <td>43.968750</td>\n      <td>43.750000</td>\n      <td>43.937500</td>\n      <td>25.029371</td>\n      <td>1003200</td>\n    </tr>\n    <tr>\n      <th>1</th>\n      <td>1993-02-01</td>\n      <td>43.968750</td>\n      <td>44.250000</td>\n      <td>43.968750</td>\n      <td>44.250000</td>\n      <td>25.207384</td>\n      <td>480500</td>\n    </tr>\n    <tr>\n      <th>2</th>\n      <td>1993-02-02</td>\n      <td>44.218750</td>\n      <td>44.375000</td>\n      <td>44.125000</td>\n      <td>44.343750</td>\n      <td>25.260788</td>\n      <td>201300</td>\n    </tr>\n    <tr>\n      <th>3</th>\n      <td>1993-02-03</td>\n      <td>44.406250</td>\n      <td>44.843750</td>\n      <td>44.375000</td>\n      <td>44.812500</td>\n      <td>25.527826</td>\n      <td>529400</td>\n    </tr>\n    <tr>\n      <th>4</th>\n      <td>1993-02-04</td>\n      <td>44.968750</td>\n      <td>45.093750</td>\n      <td>44.468750</td>\n      <td>45.000000</td>\n      <td>25.634632</td>\n      <td>531500</td>\n    </tr>\n    <tr>\n      <th>...</th>\n      <td>...</td>\n      <td>...</td>\n      <td>...</td>\n      <td>...</td>\n      <td>...</td>\n      <td>...</td>\n      <td>...</td>\n    </tr>\n    <tr>\n      <th>7694</th>\n      <td>2023-08-21</td>\n      <td>437.549988</td>\n      <td>440.109985</td>\n      <td>435.320007</td>\n      <td>439.339996</td>\n      <td>439.339996</td>\n      <td>68719000</td>\n    </tr>\n    <tr>\n      <th>7695</th>\n      <td>2023-08-22</td>\n      <td>441.179993</td>\n      <td>441.179993</td>\n      <td>437.570007</td>\n      <td>438.149994</td>\n      <td>438.149994</td>\n      <td>65062900</td>\n    </tr>\n    <tr>\n      <th>7696</th>\n      <td>2023-08-23</td>\n      <td>439.250000</td>\n      <td>443.670013</td>\n      <td>439.100006</td>\n      <td>443.029999</td>\n      <td>443.029999</td>\n      <td>68441000</td>\n    </tr>\n    <tr>\n      <th>7697</th>\n      <td>2023-08-24</td>\n      <td>444.690002</td>\n      <td>445.220001</td>\n      <td>436.859985</td>\n      <td>436.890015</td>\n      <td>436.890015</td>\n      <td>88517300</td>\n    </tr>\n    <tr>\n      <th>7698</th>\n      <td>2023-08-25</td>\n      <td>438.679993</td>\n      <td>441.299988</td>\n      <td>435.000000</td>\n      <td>439.970001</td>\n      <td>439.970001</td>\n      <td>102297000</td>\n    </tr>\n  </tbody>\n</table>\n<p>7699 rows × 7 columns</p>\n</div>"
     },
     "execution_count": 16,
     "metadata": {},
     "output_type": "execute_result"
    }
   ],
   "source": [
    "df_SPY"
   ],
   "metadata": {
    "collapsed": false,
    "ExecuteTime": {
     "end_time": "2023-09-05T21:20:51.835818900Z",
     "start_time": "2023-09-05T21:20:51.738819200Z"
    }
   },
   "id": "54839c249a1ff04"
  },
  {
   "cell_type": "code",
   "execution_count": 17,
   "outputs": [],
   "source": [
    "# a. Compute and display the average rate of return over the daytime period (open-to-close), and the nighttime period (close-to-open).\n",
    "df_SPY['Daytime_Return'] = (df_SPY['Close'] - df_SPY['Open']) / df_SPY['Open']\n",
    "df_SPY['Nighttime_Return'] = (df_SPY['Open'].shift(-1) - df_SPY['Close']) / df_SPY['Close']\n",
    "df_SPY['Full-Day_Return'] = (df_SPY['Close'].shift(-1) - df_SPY['Close']) / df_SPY['Close']\n",
    "df_SPY['Full-Day_Adj_Return'] = (df_SPY['Adj Close'].shift(-1) - df_SPY['Adj Close']) / df_SPY['Adj Close']"
   ],
   "metadata": {
    "collapsed": false,
    "ExecuteTime": {
     "end_time": "2023-09-05T21:20:51.836819Z",
     "start_time": "2023-09-05T21:20:51.758819600Z"
    }
   },
   "id": "2f036fcc2a834f9d"
  },
  {
   "cell_type": "code",
   "execution_count": 18,
   "outputs": [
    {
     "data": {
      "text/plain": "(0.00037004848314452254, 0.000442885501665994)"
     },
     "execution_count": 18,
     "metadata": {},
     "output_type": "execute_result"
    }
   ],
   "source": [
    "# b. Compute and display the average full-day return using close-to-close prices\n",
    "# c. Compute and display the average full-day return using adjusted close-to-adjusted close prices. \n",
    "df_SPY['Full-Day_Return'].mean(), df_SPY['Full-Day_Adj_Return'].mean()"
   ],
   "metadata": {
    "collapsed": false,
    "ExecuteTime": {
     "end_time": "2023-09-05T21:20:51.837819100Z",
     "start_time": "2023-09-05T21:20:51.772819500Z"
    }
   },
   "id": "469e6ebee07b4f45"
  },
  {
   "cell_type": "markdown",
   "source": [
    "d. In a markdown cell, write a short explanation of why the numbers from b (close-to-close) and c (adjusted close to adjusted close) are different. \n",
    "\n",
    "Close to close represent the raw closing values of a stock on consecutive days, without any adjustments. On the contrary, adjusted close to adjusted close accounts for events like dividends, stock splits, and new stock offerings. Therefore, when we compare adjusted close values from one day to another, we're taking into consideration any corporate actions that might have changed the intrinsic value of each share making the final average full day return greater."
   ],
   "metadata": {
    "collapsed": false
   },
   "id": "15fc7c5d03d137bd"
  }
 ],
 "metadata": {
  "kernelspec": {
   "display_name": "Python 3",
   "language": "python",
   "name": "python3"
  },
  "language_info": {
   "codemirror_mode": {
    "name": "ipython",
    "version": 2
   },
   "file_extension": ".py",
   "mimetype": "text/x-python",
   "name": "python",
   "nbconvert_exporter": "python",
   "pygments_lexer": "ipython2",
   "version": "2.7.6"
  }
 },
 "nbformat": 4,
 "nbformat_minor": 5
}
