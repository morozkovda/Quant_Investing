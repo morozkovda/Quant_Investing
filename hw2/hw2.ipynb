{
 "cells": [
  {
   "cell_type": "code",
   "execution_count": 424,
   "id": "initial_id",
   "metadata": {
    "collapsed": true,
    "ExecuteTime": {
     "end_time": "2023-09-19T00:41:15.392173200Z",
     "start_time": "2023-09-19T00:41:15.305017700Z"
    }
   },
   "outputs": [],
   "source": [
    "# Homework 2. Daniil Morozkov. 09/05/2023.\n",
    "# import libraries\n",
    "import pandas as pd\n",
    "import numpy as np"
   ]
  },
  {
   "cell_type": "markdown",
   "source": [
    "Question 1\n",
    "Using the full SPY dataset, compute daily close-to-close returns on SPY.  What is the average return on SPY over the full sample, during the first trading day of the month, and during the third-to-the-last trading day of the month?\n"
   ],
   "metadata": {
    "collapsed": false
   },
   "id": "96112fc8947292d6"
  },
  {
   "cell_type": "code",
   "execution_count": 425,
   "outputs": [
    {
     "data": {
      "text/plain": "                Open      High       Low     Close  Adj Close   Volume\nDate                                                                  \n1993-01-29  43.96875  43.96875  43.75000  43.93750  25.438095  1003200\n1993-02-01  43.96875  44.25000  43.96875  44.25000  25.619024   480500\n1993-02-02  44.21875  44.37500  44.12500  44.34375  25.673296   201300\n1993-02-03  44.40625  44.84375  44.37500  44.81250  25.944683   529400\n1993-02-04  44.96875  45.09375  44.46875  45.00000  26.053244   531500",
      "text/html": "<div>\n<style scoped>\n    .dataframe tbody tr th:only-of-type {\n        vertical-align: middle;\n    }\n\n    .dataframe tbody tr th {\n        vertical-align: top;\n    }\n\n    .dataframe thead th {\n        text-align: right;\n    }\n</style>\n<table border=\"1\" class=\"dataframe\">\n  <thead>\n    <tr style=\"text-align: right;\">\n      <th></th>\n      <th>Open</th>\n      <th>High</th>\n      <th>Low</th>\n      <th>Close</th>\n      <th>Adj Close</th>\n      <th>Volume</th>\n    </tr>\n    <tr>\n      <th>Date</th>\n      <th></th>\n      <th></th>\n      <th></th>\n      <th></th>\n      <th></th>\n      <th></th>\n    </tr>\n  </thead>\n  <tbody>\n    <tr>\n      <th>1993-01-29</th>\n      <td>43.96875</td>\n      <td>43.96875</td>\n      <td>43.75000</td>\n      <td>43.93750</td>\n      <td>25.438095</td>\n      <td>1003200</td>\n    </tr>\n    <tr>\n      <th>1993-02-01</th>\n      <td>43.96875</td>\n      <td>44.25000</td>\n      <td>43.96875</td>\n      <td>44.25000</td>\n      <td>25.619024</td>\n      <td>480500</td>\n    </tr>\n    <tr>\n      <th>1993-02-02</th>\n      <td>44.21875</td>\n      <td>44.37500</td>\n      <td>44.12500</td>\n      <td>44.34375</td>\n      <td>25.673296</td>\n      <td>201300</td>\n    </tr>\n    <tr>\n      <th>1993-02-03</th>\n      <td>44.40625</td>\n      <td>44.84375</td>\n      <td>44.37500</td>\n      <td>44.81250</td>\n      <td>25.944683</td>\n      <td>529400</td>\n    </tr>\n    <tr>\n      <th>1993-02-04</th>\n      <td>44.96875</td>\n      <td>45.09375</td>\n      <td>44.46875</td>\n      <td>45.00000</td>\n      <td>26.053244</td>\n      <td>531500</td>\n    </tr>\n  </tbody>\n</table>\n</div>"
     },
     "execution_count": 425,
     "metadata": {},
     "output_type": "execute_result"
    }
   ],
   "source": [
    "# upload dataset, show few entries\n",
    "df_spy = pd.read_csv('SPY.csv', parse_dates=[0], index_col=[0])\n",
    "df_spy.head()"
   ],
   "metadata": {
    "collapsed": false,
    "ExecuteTime": {
     "end_time": "2023-09-19T00:41:15.494865Z",
     "start_time": "2023-09-19T00:41:15.322957800Z"
    }
   },
   "id": "5be6c188b650b275"
  },
  {
   "cell_type": "code",
   "execution_count": 426,
   "outputs": [
    {
     "data": {
      "text/plain": "Date\n1993-01-29         NaN\n1993-02-01    0.007113\n1993-02-02    0.002118\n1993-02-03    0.010571\n1993-02-04    0.004184\n                ...   \n2022-07-20    0.006373\n2022-07-21    0.010183\n2022-07-22   -0.009278\n2022-07-25    0.001215\n2022-07-26   -0.011831\nName: Return, Length: 7426, dtype: float64"
     },
     "execution_count": 426,
     "metadata": {},
     "output_type": "execute_result"
    }
   ],
   "source": [
    "# find returns\n",
    "df_spy['Return'] = df_spy['Adj Close'].pct_change()\n",
    "df_spy['Return']"
   ],
   "metadata": {
    "collapsed": false,
    "ExecuteTime": {
     "end_time": "2023-09-19T00:41:15.494865Z",
     "start_time": "2023-09-19T00:41:15.347706800Z"
    }
   },
   "id": "65b344e9bcf317e"
  },
  {
   "cell_type": "code",
   "execution_count": 427,
   "outputs": [],
   "source": [
    "# drop na's\n",
    "df_spy.dropna(inplace = True)"
   ],
   "metadata": {
    "collapsed": false,
    "ExecuteTime": {
     "end_time": "2023-09-19T00:41:15.494865Z",
     "start_time": "2023-09-19T00:41:15.364650400Z"
    }
   },
   "id": "9336124ad0fddcc9"
  },
  {
   "cell_type": "code",
   "execution_count": 428,
   "outputs": [
    {
     "data": {
      "text/plain": "0.0004385772725478149"
     },
     "execution_count": 428,
     "metadata": {},
     "output_type": "execute_result"
    }
   ],
   "source": [
    "# find return over the sample\n",
    "df_spy['Return'].mean()"
   ],
   "metadata": {
    "collapsed": false,
    "ExecuteTime": {
     "end_time": "2023-09-19T00:41:15.495861800Z",
     "start_time": "2023-09-19T00:41:15.380213600Z"
    }
   },
   "id": "4f7c765d3c93491b"
  },
  {
   "cell_type": "code",
   "execution_count": 429,
   "outputs": [],
   "source": [
    "# specify month and year for each entry\n",
    "df_spy['Year'], df_spy['Month'] = df_spy.index.year, df_spy.index.month"
   ],
   "metadata": {
    "collapsed": false,
    "ExecuteTime": {
     "end_time": "2023-09-19T00:41:15.495861800Z",
     "start_time": "2023-09-19T00:41:15.394166900Z"
    }
   },
   "id": "e63c69d47142f872"
  },
  {
   "cell_type": "code",
   "execution_count": 430,
   "outputs": [
    {
     "data": {
      "text/plain": "Open         1.582197e+02\nHigh         1.592608e+02\nLow          1.570921e+02\nClose        1.583282e+02\nAdj Close    1.318684e+02\nVolume       8.746886e+07\nReturn       2.441323e-03\nYear         2.007336e+03\nMonth        6.466102e+00\ndtype: float64"
     },
     "execution_count": 430,
     "metadata": {},
     "output_type": "execute_result"
    }
   ],
   "source": [
    "# group by year, month and find mean return of the first day\n",
    "df_spy.groupby(['Year', 'Month']).apply(lambda x: x.iloc[0]).mean()"
   ],
   "metadata": {
    "collapsed": false,
    "ExecuteTime": {
     "end_time": "2023-09-19T00:41:15.496858700Z",
     "start_time": "2023-09-19T00:41:15.411144900Z"
    }
   },
   "id": "5bc922f31e1991e2"
  },
  {
   "cell_type": "code",
   "execution_count": 431,
   "outputs": [
    {
     "data": {
      "text/plain": "(Open         1.589775e+02\n High         1.599253e+02\n Low          1.578749e+02\n Close        1.589248e+02\n Adj Close    1.325908e+02\n Volume       8.047841e+07\n Return       6.807369e-04\n Year         2.007336e+03\n Month        6.466102e+00\n dtype: float64,\n 0.0006807369336083447)"
     },
     "execution_count": 431,
     "metadata": {},
     "output_type": "execute_result"
    }
   ],
   "source": [
    "# group by year, month and find mean return of the third-to-the-last trading day of the month\n",
    "df_grouped = df_spy.groupby(['Year', 'Month']).apply(lambda x: x.iloc[-3]).mean()\n",
    "df_grouped, df_grouped['Return']"
   ],
   "metadata": {
    "collapsed": false,
    "ExecuteTime": {
     "end_time": "2023-09-19T00:41:15.514798300Z",
     "start_time": "2023-09-19T00:41:15.459981700Z"
    }
   },
   "id": "72b5e3aff4ff31c1"
  },
  {
   "cell_type": "markdown",
   "source": [
    "Question 2\n",
    "Create a new dataframe that includes all dates on which there is price data available for SPY.  Add the T-Bill yield (the Close column of ^IRX) to this dataframe.  Note that ^IRX is missing on a number of dates that are in SPY, such as 2016-10-10.  You can fill in these missing values using the following command:\n",
    "spy['Tbill yield filled'] = spy['Tbill yield'].fillna(method='ffill')\n",
    "You should take a look at how this works and think about why it is probably ok.  \n",
    "Compute T-bill returns following the instructions at the bottom of this sheet.  What are the mean and standard deviation of excess SPY returns, defined as the SPY return minus the T-bill return?"
   ],
   "metadata": {
    "collapsed": false
   },
   "id": "9e78c5a63e766054"
  },
  {
   "cell_type": "code",
   "execution_count": 432,
   "outputs": [
    {
     "name": "stdout",
     "output_type": "stream",
     "text": [
      "<class 'pandas.core.frame.DataFrame'>\n",
      "DatetimeIndex: 19450 entries, 1960-01-04 to 2022-07-26\n",
      "Data columns (total 6 columns):\n",
      " #   Column     Non-Null Count  Dtype  \n",
      "---  ------     --------------  -----  \n",
      " 0   Open       15651 non-null  float64\n",
      " 1   High       15651 non-null  float64\n",
      " 2   Low        15651 non-null  float64\n",
      " 3   Close      15651 non-null  float64\n",
      " 4   Adj Close  15651 non-null  float64\n",
      " 5   Volume     15651 non-null  float64\n",
      "dtypes: float64(6)\n",
      "memory usage: 1.0 MB\n",
      "<class 'pandas.core.frame.DataFrame'>\n",
      "DatetimeIndex: 7426 entries, 1993-01-29 to 2022-07-26\n",
      "Data columns (total 6 columns):\n",
      " #   Column     Non-Null Count  Dtype  \n",
      "---  ------     --------------  -----  \n",
      " 0   Open       7426 non-null   float64\n",
      " 1   High       7426 non-null   float64\n",
      " 2   Low        7426 non-null   float64\n",
      " 3   Close      7426 non-null   float64\n",
      " 4   Adj Close  7426 non-null   float64\n",
      " 5   Volume     7426 non-null   int64  \n",
      "dtypes: float64(5), int64(1)\n",
      "memory usage: 406.1 KB\n"
     ]
    },
    {
     "data": {
      "text/plain": "(None, None)"
     },
     "execution_count": 432,
     "metadata": {},
     "output_type": "execute_result"
    }
   ],
   "source": [
    "# load datasets\n",
    "irx = pd.read_csv('^IRX.csv',  parse_dates=[0], index_col=[0])\n",
    "spy = pd.read_csv('SPY.csv', parse_dates=[0], index_col=[0])\n",
    "irx.info(), spy.info()"
   ],
   "metadata": {
    "collapsed": false,
    "ExecuteTime": {
     "end_time": "2023-09-19T00:41:15.622617800Z",
     "start_time": "2023-09-19T00:41:15.504832100Z"
    }
   },
   "id": "df5b5e9f4fa968d"
  },
  {
   "cell_type": "code",
   "execution_count": 433,
   "outputs": [
    {
     "data": {
      "text/plain": "                  Open        High         Low       Close   Adj Close  \\\nDate                                                                     \n1993-01-29   43.968750   43.968750   43.750000   43.937500   25.438095   \n1993-02-01   43.968750   44.250000   43.968750   44.250000   25.619024   \n1993-02-02   44.218750   44.375000   44.125000   44.343750   25.673296   \n1993-02-03   44.406250   44.843750   44.375000   44.812500   25.944683   \n1993-02-04   44.968750   45.093750   44.468750   45.000000   26.053244   \n...                ...         ...         ...         ...         ...   \n2022-07-20  392.470001  396.260010  391.029999  394.769989  394.769989   \n2022-07-21  394.160004  398.839996  391.630005  398.790009  398.790009   \n2022-07-22  398.920013  400.179993  392.750000  395.089996  395.089996   \n2022-07-25  395.750000  396.470001  393.209991  395.570007  395.570007   \n2022-07-26  393.839996  394.059998  389.950012  390.890015  390.890015   \n\n              Volume  Tbill yield  \nDate                               \n1993-01-29   1003200        2.900  \n1993-02-01    480500        2.900  \n1993-02-02    201300        2.960  \n1993-02-03    529400        2.930  \n1993-02-04    531500        2.900  \n...              ...          ...  \n2022-07-20  71843800        2.378  \n2022-07-21  64903900        2.360  \n2022-07-22  72130300        2.355  \n2022-07-25  53631500        2.393  \n2022-07-26  52642500        2.475  \n\n[7426 rows x 7 columns]",
      "text/html": "<div>\n<style scoped>\n    .dataframe tbody tr th:only-of-type {\n        vertical-align: middle;\n    }\n\n    .dataframe tbody tr th {\n        vertical-align: top;\n    }\n\n    .dataframe thead th {\n        text-align: right;\n    }\n</style>\n<table border=\"1\" class=\"dataframe\">\n  <thead>\n    <tr style=\"text-align: right;\">\n      <th></th>\n      <th>Open</th>\n      <th>High</th>\n      <th>Low</th>\n      <th>Close</th>\n      <th>Adj Close</th>\n      <th>Volume</th>\n      <th>Tbill yield</th>\n    </tr>\n    <tr>\n      <th>Date</th>\n      <th></th>\n      <th></th>\n      <th></th>\n      <th></th>\n      <th></th>\n      <th></th>\n      <th></th>\n    </tr>\n  </thead>\n  <tbody>\n    <tr>\n      <th>1993-01-29</th>\n      <td>43.968750</td>\n      <td>43.968750</td>\n      <td>43.750000</td>\n      <td>43.937500</td>\n      <td>25.438095</td>\n      <td>1003200</td>\n      <td>2.900</td>\n    </tr>\n    <tr>\n      <th>1993-02-01</th>\n      <td>43.968750</td>\n      <td>44.250000</td>\n      <td>43.968750</td>\n      <td>44.250000</td>\n      <td>25.619024</td>\n      <td>480500</td>\n      <td>2.900</td>\n    </tr>\n    <tr>\n      <th>1993-02-02</th>\n      <td>44.218750</td>\n      <td>44.375000</td>\n      <td>44.125000</td>\n      <td>44.343750</td>\n      <td>25.673296</td>\n      <td>201300</td>\n      <td>2.960</td>\n    </tr>\n    <tr>\n      <th>1993-02-03</th>\n      <td>44.406250</td>\n      <td>44.843750</td>\n      <td>44.375000</td>\n      <td>44.812500</td>\n      <td>25.944683</td>\n      <td>529400</td>\n      <td>2.930</td>\n    </tr>\n    <tr>\n      <th>1993-02-04</th>\n      <td>44.968750</td>\n      <td>45.093750</td>\n      <td>44.468750</td>\n      <td>45.000000</td>\n      <td>26.053244</td>\n      <td>531500</td>\n      <td>2.900</td>\n    </tr>\n    <tr>\n      <th>...</th>\n      <td>...</td>\n      <td>...</td>\n      <td>...</td>\n      <td>...</td>\n      <td>...</td>\n      <td>...</td>\n      <td>...</td>\n    </tr>\n    <tr>\n      <th>2022-07-20</th>\n      <td>392.470001</td>\n      <td>396.260010</td>\n      <td>391.029999</td>\n      <td>394.769989</td>\n      <td>394.769989</td>\n      <td>71843800</td>\n      <td>2.378</td>\n    </tr>\n    <tr>\n      <th>2022-07-21</th>\n      <td>394.160004</td>\n      <td>398.839996</td>\n      <td>391.630005</td>\n      <td>398.790009</td>\n      <td>398.790009</td>\n      <td>64903900</td>\n      <td>2.360</td>\n    </tr>\n    <tr>\n      <th>2022-07-22</th>\n      <td>398.920013</td>\n      <td>400.179993</td>\n      <td>392.750000</td>\n      <td>395.089996</td>\n      <td>395.089996</td>\n      <td>72130300</td>\n      <td>2.355</td>\n    </tr>\n    <tr>\n      <th>2022-07-25</th>\n      <td>395.750000</td>\n      <td>396.470001</td>\n      <td>393.209991</td>\n      <td>395.570007</td>\n      <td>395.570007</td>\n      <td>53631500</td>\n      <td>2.393</td>\n    </tr>\n    <tr>\n      <th>2022-07-26</th>\n      <td>393.839996</td>\n      <td>394.059998</td>\n      <td>389.950012</td>\n      <td>390.890015</td>\n      <td>390.890015</td>\n      <td>52642500</td>\n      <td>2.475</td>\n    </tr>\n  </tbody>\n</table>\n<p>7426 rows × 7 columns</p>\n</div>"
     },
     "execution_count": 433,
     "metadata": {},
     "output_type": "execute_result"
    }
   ],
   "source": [
    "# add t-bill yield\n",
    "spy['Tbill yield'] = irx['Close']\n",
    "spy"
   ],
   "metadata": {
    "collapsed": false,
    "ExecuteTime": {
     "end_time": "2023-09-19T00:41:15.645541100Z",
     "start_time": "2023-09-19T00:41:15.551675400Z"
    }
   },
   "id": "e31530fb32a377f5"
  },
  {
   "cell_type": "code",
   "execution_count": 434,
   "outputs": [],
   "source": [
    "# fill na's\n",
    "spy['Tbill yield filled'] = spy['Tbill yield'].fillna(method='ffill')"
   ],
   "metadata": {
    "collapsed": false,
    "ExecuteTime": {
     "end_time": "2023-09-19T00:41:15.646537700Z",
     "start_time": "2023-09-19T00:41:15.582726100Z"
    }
   },
   "id": "3f04fc396fecc69a"
  },
  {
   "cell_type": "code",
   "execution_count": 435,
   "outputs": [
    {
     "data": {
      "text/plain": "Date\n2016-10-10    0.31\nName: Tbill yield filled, dtype: float64"
     },
     "execution_count": 435,
     "metadata": {},
     "output_type": "execute_result"
    }
   ],
   "source": [
    "# looks ok\n",
    "spy['Tbill yield filled'].loc[spy.index=='2016-10-10']"
   ],
   "metadata": {
    "collapsed": false,
    "ExecuteTime": {
     "end_time": "2023-09-19T00:41:15.670180800Z",
     "start_time": "2023-09-19T00:41:15.598673Z"
    }
   },
   "id": "faf6f28b59d22758"
  },
  {
   "cell_type": "code",
   "execution_count": 436,
   "outputs": [
    {
     "name": "stdout",
     "output_type": "stream",
     "text": [
      "Date\n",
      "1993-01-29    1.0\n",
      "1993-02-01    3.0\n",
      "1993-02-02    1.0\n",
      "1993-02-03    1.0\n",
      "1993-02-04    1.0\n",
      "             ... \n",
      "2022-07-20    1.0\n",
      "2022-07-21    1.0\n",
      "2022-07-22    1.0\n",
      "2022-07-25    3.0\n",
      "2022-07-26    1.0\n",
      "Name: Nt, Length: 7426, dtype: float64\n"
     ]
    }
   ],
   "source": [
    "# compute Nt by checking difference between dates\n",
    "spy['Nt'] = spy.index.to_series().diff().dt.days.fillna(1)\n",
    "print(spy['Nt'])"
   ],
   "metadata": {
    "collapsed": false,
    "ExecuteTime": {
     "end_time": "2023-09-19T00:41:15.671177700Z",
     "start_time": "2023-09-19T00:41:15.613647500Z"
    }
   },
   "id": "ab0170769935e954"
  },
  {
   "cell_type": "code",
   "execution_count": 437,
   "outputs": [
    {
     "data": {
      "text/plain": "Date\n1993-01-29         NaN\n1993-02-01    0.000238\n1993-02-02    0.000079\n1993-02-03    0.000081\n1993-02-04    0.000080\n                ...   \n2022-07-20    0.000067\n2022-07-21    0.000065\n2022-07-22    0.000065\n2022-07-25    0.000194\n2022-07-26    0.000066\nName: rf, Length: 7426, dtype: float64"
     },
     "execution_count": 437,
     "metadata": {},
     "output_type": "execute_result"
    }
   ],
   "source": [
    "# compute risk-free return\n",
    "spy['rf'] = spy['Tbill yield filled'].shift(1) * spy['Nt']/36500\n",
    "spy['rf']"
   ],
   "metadata": {
    "collapsed": false,
    "ExecuteTime": {
     "end_time": "2023-09-19T00:41:15.748447200Z",
     "start_time": "2023-09-19T00:41:15.627601100Z"
    }
   },
   "id": "1efdb2a5e430a11d"
  },
  {
   "cell_type": "code",
   "execution_count": 438,
   "outputs": [
    {
     "data": {
      "text/plain": "Date\n1993-01-29         NaN\n1993-02-01    0.007113\n1993-02-02    0.002118\n1993-02-03    0.010571\n1993-02-04    0.004184\n                ...   \n2022-07-20    0.006373\n2022-07-21    0.010183\n2022-07-22   -0.009278\n2022-07-25    0.001215\n2022-07-26   -0.011831\nName: Return, Length: 7426, dtype: float64"
     },
     "execution_count": 438,
     "metadata": {},
     "output_type": "execute_result"
    }
   ],
   "source": [
    "# find spy returns\n",
    "spy['Return'] = spy['Adj Close'].pct_change()\n",
    "spy['Return']"
   ],
   "metadata": {
    "collapsed": false,
    "ExecuteTime": {
     "end_time": "2023-09-19T00:41:15.760407300Z",
     "start_time": "2023-09-19T00:41:15.673171Z"
    }
   },
   "id": "9e833831f1837ed"
  },
  {
   "cell_type": "code",
   "execution_count": 439,
   "outputs": [
    {
     "data": {
      "text/plain": "count    7403.000000\nmean        0.000351\nstd         0.011886\nmin        -0.109444\n25%        -0.004468\n50%         0.000604\n75%         0.005860\nmax         0.145180\nName: Excess Returns, dtype: float64"
     },
     "execution_count": 439,
     "metadata": {},
     "output_type": "execute_result"
    }
   ],
   "source": [
    "# find excess returns mean and SD\n",
    "spy['Excess Returns'] = spy['Return'] - spy['rf']\n",
    "spy.dropna(inplace=True)\n",
    "spy['Excess Returns'].describe()"
   ],
   "metadata": {
    "collapsed": false,
    "ExecuteTime": {
     "end_time": "2023-09-19T00:41:15.795328500Z",
     "start_time": "2023-09-19T00:41:15.688121200Z"
    }
   },
   "id": "9b74a6ee237dc2b6"
  },
  {
   "cell_type": "markdown",
   "source": [
    "Question 3\n",
    "What is the maximum drawdown of OAKMX?  (Hint: use adjusted closing prices for portfolio values and then the cummax() method to get the prior highs.)"
   ],
   "metadata": {
    "collapsed": false
   },
   "id": "9262d9b53d2d8428"
  },
  {
   "cell_type": "code",
   "execution_count": 440,
   "outputs": [],
   "source": [
    "# load dataset\n",
    "oakmx = pd.read_csv('OAKMX.csv',  parse_dates=[0], index_col=[0])"
   ],
   "metadata": {
    "collapsed": false,
    "ExecuteTime": {
     "end_time": "2023-09-19T00:41:15.843168800Z",
     "start_time": "2023-09-19T00:41:15.704067600Z"
    }
   },
   "id": "29cfcd1a359bdee2"
  },
  {
   "cell_type": "code",
   "execution_count": 441,
   "outputs": [],
   "source": [
    "# the cummax() method to get the prior highs\n",
    "oakmx['Prior Max'] = oakmx['Adj Close'].cummax()"
   ],
   "metadata": {
    "collapsed": false,
    "ExecuteTime": {
     "end_time": "2023-09-19T00:41:15.848152200Z",
     "start_time": "2023-09-19T00:41:15.720505800Z"
    }
   },
   "id": "760e9e8f7c6b8d94"
  },
  {
   "cell_type": "code",
   "execution_count": 442,
   "outputs": [],
   "source": [
    "# calculate drawdowns\n",
    "oakmx['Drawdowns'] = (oakmx['Adj Close'] - oakmx['Prior Max'])/oakmx['Prior Max']"
   ],
   "metadata": {
    "collapsed": false,
    "ExecuteTime": {
     "end_time": "2023-09-19T00:41:15.849148900Z",
     "start_time": "2023-09-19T00:41:15.735455700Z"
    }
   },
   "id": "a69156ccb1ad3374"
  },
  {
   "cell_type": "code",
   "execution_count": 443,
   "outputs": [
    {
     "data": {
      "text/plain": "-0.56194799486071"
     },
     "execution_count": 443,
     "metadata": {},
     "output_type": "execute_result"
    }
   ],
   "source": [
    "# find min value for drowdowns (largest drawdown)\n",
    "oakmx['Drawdowns'].min()"
   ],
   "metadata": {
    "collapsed": false,
    "ExecuteTime": {
     "end_time": "2023-09-19T00:41:15.851141600Z",
     "start_time": "2023-09-19T00:41:15.751437500Z"
    }
   },
   "id": "144a7c1cb456c0a1"
  },
  {
   "cell_type": "markdown",
   "source": [
    "Question 4\n",
    "What is the downside deviation of OAKMX?  As a benchmark return, use the T-Bill return.\n"
   ],
   "metadata": {
    "collapsed": false
   },
   "id": "8cc857f88b6a04fd"
  },
  {
   "cell_type": "code",
   "execution_count": 444,
   "outputs": [],
   "source": [
    "# calculate oakmax return\n",
    "oakmx['Return'] = oakmx['Adj Close'].pct_change()\n",
    "oakmx['Return'].dropna(inplace=True)"
   ],
   "metadata": {
    "collapsed": false,
    "ExecuteTime": {
     "end_time": "2023-09-19T00:41:15.851141600Z",
     "start_time": "2023-09-19T00:41:15.767384Z"
    }
   },
   "id": "92c0b2b132a218ec"
  },
  {
   "cell_type": "code",
   "execution_count": 445,
   "outputs": [
    {
     "data": {
      "text/plain": "count    7403.000000\nmean        0.000364\nstd         0.011548\nmin        -0.131806\n25%        -0.004426\n50%         0.000670\n75%         0.005460\nmax         0.107211\nName: Excess Return, dtype: float64"
     },
     "execution_count": 445,
     "metadata": {},
     "output_type": "execute_result"
    }
   ],
   "source": [
    "# find excces return for oakmx\n",
    "oakmx['Excess Return'] = oakmx['Return'] - spy['rf']\n",
    "stats = oakmx['Excess Return'].describe()\n",
    "stats"
   ],
   "metadata": {
    "collapsed": false,
    "ExecuteTime": {
     "end_time": "2023-09-19T00:41:15.852138400Z",
     "start_time": "2023-09-19T00:41:15.782334Z"
    }
   },
   "id": "6422612f448f33eb"
  },
  {
   "cell_type": "code",
   "execution_count": 446,
   "outputs": [
    {
     "name": "stdout",
     "output_type": "stream",
     "text": [
      "count                 7403.000000\n",
      "mean                     0.000364\n",
      "std                      0.011548\n",
      "min                     -0.131806\n",
      "25%                     -0.004426\n",
      "50%                      0.000670\n",
      "75%                      0.005460\n",
      "max                      0.107211\n",
      "Downside Deviation       0.008011\n",
      "Name: Excess Return, dtype: float64\n"
     ]
    },
    {
     "name": "stderr",
     "output_type": "stream",
     "text": [
      "C:\\Users\\moroz\\AppData\\Local\\Temp\\ipykernel_2780\\1687295211.py:3: SettingWithCopyWarning: \n",
      "A value is trying to be set on a copy of a slice from a DataFrame\n",
      "\n",
      "See the caveats in the documentation: https://pandas.pydata.org/pandas-docs/stable/user_guide/indexing.html#returning-a-view-versus-a-copy\n",
      "  oakmx['min squared'].loc[oakmx['Excess Return']<0] = oakmx['Excess Return']**2\n"
     ]
    }
   ],
   "source": [
    "# find downside deviation\n",
    "oakmx['min squared'] = 0\n",
    "oakmx['min squared'].loc[oakmx['Excess Return']<0] = oakmx['Excess Return']**2\n",
    "min2stats = oakmx['min squared'].describe()\n",
    "stats.loc['Downside Deviation'] = np.sqrt(min2stats.loc['mean'])\n",
    "print(stats)"
   ],
   "metadata": {
    "collapsed": false,
    "ExecuteTime": {
     "end_time": "2023-09-19T00:41:15.852138400Z",
     "start_time": "2023-09-19T00:41:15.799315100Z"
    }
   },
   "id": "3e18946d664a4f49"
  },
  {
   "cell_type": "markdown",
   "source": [
    "Question 5\n",
    "What is the average excess return on OAKMX when the previous Adjusted Closing price is above its 200-day moving average?  What about when it is below the moving average?  (Hint: use the rolling() method to get the moving average.)  Are these means statistically significant?\n"
   ],
   "metadata": {
    "collapsed": false
   },
   "id": "4619292fa9acb8c2"
  },
  {
   "cell_type": "code",
   "execution_count": 447,
   "outputs": [],
   "source": [
    "# find moving average 200 for oakmx\n",
    "oakmx['MA_200'] = oakmx['Adj Close'].rolling(window=200).mean()\n",
    "oakmx.dropna(inplace=True)"
   ],
   "metadata": {
    "collapsed": false,
    "ExecuteTime": {
     "end_time": "2023-09-19T00:41:15.903999500Z",
     "start_time": "2023-09-19T00:41:15.815262Z"
    }
   },
   "id": "325b2acd2618428f"
  },
  {
   "cell_type": "code",
   "execution_count": 448,
   "outputs": [],
   "source": [
    "# find cases when returns are greate\n",
    "oakmx['Prev_MA_200'] = oakmx['MA_200'].shift(1)\n",
    "oakmx['Prev_Adj Close'] = oakmx['Adj Close'].shift(1)\n",
    "above_ma = oakmx[oakmx['Prev_Adj Close'] > oakmx['Prev_MA_200']]['Excess Return']\n",
    "below_ma = oakmx[oakmx['Prev_Adj Close'] <= oakmx['Prev_MA_200']]['Excess Return']\n"
   ],
   "metadata": {
    "collapsed": false,
    "ExecuteTime": {
     "end_time": "2023-09-19T00:41:15.914965100Z",
     "start_time": "2023-09-19T00:41:15.831209Z"
    }
   },
   "id": "922589a8396a9d8e"
  },
  {
   "cell_type": "code",
   "execution_count": 451,
   "outputs": [
    {
     "data": {
      "text/plain": "(0.0003938579981215834, 0.00026732878718344435)"
     },
     "execution_count": 451,
     "metadata": {},
     "output_type": "execute_result"
    }
   ],
   "source": [
    "# What is the average excess return on OAKMX when the previous Adjusted Closing price is above its 200-day moving average?  What about when it is below the moving average?  \n",
    "above_ma.mean(), below_ma.mean()"
   ],
   "metadata": {
    "collapsed": false,
    "ExecuteTime": {
     "end_time": "2023-09-19T00:42:35.026558Z",
     "start_time": "2023-09-19T00:42:34.977295400Z"
    }
   },
   "id": "9084495ae9e46e51"
  },
  {
   "cell_type": "code",
   "execution_count": 452,
   "outputs": [
    {
     "data": {
      "text/plain": "(3.649496029408021, 0.5901956107225281)"
     },
     "execution_count": 452,
     "metadata": {},
     "output_type": "execute_result"
    }
   ],
   "source": [
    "def calc_t_stat(df):\n",
    "    sample_mean = df.mean()\n",
    "    sample_std = df.std()\n",
    "    n = len(df)\n",
    "    t_stat = sample_mean / (sample_std / n ** (1/2))\n",
    "    return t_stat\n",
    "\n",
    "calc_t_stat(above_ma), calc_t_stat(below_ma)"
   ],
   "metadata": {
    "collapsed": false,
    "ExecuteTime": {
     "end_time": "2023-09-19T00:46:59.820493800Z",
     "start_time": "2023-09-19T00:46:59.760926200Z"
    }
   },
   "id": "d0f30a3a950b9b14"
  },
  {
   "cell_type": "markdown",
   "source": [
    "At significance level alpha = 0.05, t crit = 1.96, we may conclude that above_ma mean excess return is statistically signficant (reject H0, 3.64>1.96), below_ma is not significant (accept H0 0.59<1.96)"
   ],
   "metadata": {
    "collapsed": false
   },
   "id": "73578a9e57da4d77"
  },
  {
   "cell_type": "code",
   "execution_count": null,
   "outputs": [],
   "source": [],
   "metadata": {
    "collapsed": false
   },
   "id": "c6f6614aceadd1d3"
  },
  {
   "cell_type": "code",
   "execution_count": null,
   "outputs": [],
   "source": [],
   "metadata": {
    "collapsed": false
   },
   "id": "ac42196c66c90a01"
  }
 ],
 "metadata": {
  "kernelspec": {
   "display_name": "Python 3",
   "language": "python",
   "name": "python3"
  },
  "language_info": {
   "codemirror_mode": {
    "name": "ipython",
    "version": 2
   },
   "file_extension": ".py",
   "mimetype": "text/x-python",
   "name": "python",
   "nbconvert_exporter": "python",
   "pygments_lexer": "ipython2",
   "version": "2.7.6"
  }
 },
 "nbformat": 4,
 "nbformat_minor": 5
}
