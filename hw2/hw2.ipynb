{
 "cells": [
  {
   "cell_type": "code",
   "execution_count": 277,
   "id": "initial_id",
   "metadata": {
    "collapsed": true,
    "ExecuteTime": {
     "end_time": "2023-09-30T04:44:29.961065300Z",
     "start_time": "2023-09-30T04:44:29.912229200Z"
    }
   },
   "outputs": [],
   "source": [
    "# Homework 2. Daniil Morozkov. 09/05/2023.\n",
    "# import libraries\n",
    "import pandas as pd\n",
    "import numpy as np"
   ]
  },
  {
   "cell_type": "markdown",
   "source": [
    "Question 1\n",
    "Using the full SPY dataset, compute daily close-to-close returns on SPY.  What is the average return on SPY over the full sample, during the first trading day of the month, and during the third-to-the-last trading day of the month?\n"
   ],
   "metadata": {
    "collapsed": false
   },
   "id": "96112fc8947292d6"
  },
  {
   "cell_type": "code",
   "execution_count": 278,
   "outputs": [
    {
     "data": {
      "text/plain": "                Open      High       Low     Close  Adj Close   Volume\nDate                                                                  \n1993-01-29  43.96875  43.96875  43.75000  43.93750  25.438095  1003200\n1993-02-01  43.96875  44.25000  43.96875  44.25000  25.619024   480500\n1993-02-02  44.21875  44.37500  44.12500  44.34375  25.673296   201300\n1993-02-03  44.40625  44.84375  44.37500  44.81250  25.944683   529400\n1993-02-04  44.96875  45.09375  44.46875  45.00000  26.053244   531500",
      "text/html": "<div>\n<style scoped>\n    .dataframe tbody tr th:only-of-type {\n        vertical-align: middle;\n    }\n\n    .dataframe tbody tr th {\n        vertical-align: top;\n    }\n\n    .dataframe thead th {\n        text-align: right;\n    }\n</style>\n<table border=\"1\" class=\"dataframe\">\n  <thead>\n    <tr style=\"text-align: right;\">\n      <th></th>\n      <th>Open</th>\n      <th>High</th>\n      <th>Low</th>\n      <th>Close</th>\n      <th>Adj Close</th>\n      <th>Volume</th>\n    </tr>\n    <tr>\n      <th>Date</th>\n      <th></th>\n      <th></th>\n      <th></th>\n      <th></th>\n      <th></th>\n      <th></th>\n    </tr>\n  </thead>\n  <tbody>\n    <tr>\n      <th>1993-01-29</th>\n      <td>43.96875</td>\n      <td>43.96875</td>\n      <td>43.75000</td>\n      <td>43.93750</td>\n      <td>25.438095</td>\n      <td>1003200</td>\n    </tr>\n    <tr>\n      <th>1993-02-01</th>\n      <td>43.96875</td>\n      <td>44.25000</td>\n      <td>43.96875</td>\n      <td>44.25000</td>\n      <td>25.619024</td>\n      <td>480500</td>\n    </tr>\n    <tr>\n      <th>1993-02-02</th>\n      <td>44.21875</td>\n      <td>44.37500</td>\n      <td>44.12500</td>\n      <td>44.34375</td>\n      <td>25.673296</td>\n      <td>201300</td>\n    </tr>\n    <tr>\n      <th>1993-02-03</th>\n      <td>44.40625</td>\n      <td>44.84375</td>\n      <td>44.37500</td>\n      <td>44.81250</td>\n      <td>25.944683</td>\n      <td>529400</td>\n    </tr>\n    <tr>\n      <th>1993-02-04</th>\n      <td>44.96875</td>\n      <td>45.09375</td>\n      <td>44.46875</td>\n      <td>45.00000</td>\n      <td>26.053244</td>\n      <td>531500</td>\n    </tr>\n  </tbody>\n</table>\n</div>"
     },
     "execution_count": 278,
     "metadata": {},
     "output_type": "execute_result"
    }
   ],
   "source": [
    "# upload dataset, show few entries\n",
    "df_spy = pd.read_csv('SPY.csv', parse_dates=[0], index_col=[0])\n",
    "df_spy.head()"
   ],
   "metadata": {
    "collapsed": false,
    "ExecuteTime": {
     "end_time": "2023-09-30T04:44:30.216410Z",
     "start_time": "2023-09-30T04:44:29.926182800Z"
    }
   },
   "id": "5be6c188b650b275"
  },
  {
   "cell_type": "code",
   "execution_count": 279,
   "outputs": [
    {
     "data": {
      "text/plain": "Date\n1993-01-29         NaN\n1993-02-01    0.007113\n1993-02-02    0.002118\n1993-02-03    0.010571\n1993-02-04    0.004184\n                ...   \n2022-07-20    0.006373\n2022-07-21    0.010183\n2022-07-22   -0.009278\n2022-07-25    0.001215\n2022-07-26   -0.011831\nName: Return, Length: 7426, dtype: float64"
     },
     "execution_count": 279,
     "metadata": {},
     "output_type": "execute_result"
    }
   ],
   "source": [
    "# find returns\n",
    "df_spy['Return'] = df_spy['Adj Close'].pct_change()\n",
    "df_spy['Return']"
   ],
   "metadata": {
    "collapsed": false,
    "ExecuteTime": {
     "end_time": "2023-09-30T04:44:30.425709300Z",
     "start_time": "2023-09-30T04:44:29.950103200Z"
    }
   },
   "id": "65b344e9bcf317e"
  },
  {
   "cell_type": "code",
   "execution_count": 280,
   "outputs": [],
   "source": [
    "# drop na's\n",
    "df_spy.dropna(inplace = True)"
   ],
   "metadata": {
    "collapsed": false,
    "ExecuteTime": {
     "end_time": "2023-09-30T04:44:30.428699200Z",
     "start_time": "2023-09-30T04:44:29.964056Z"
    }
   },
   "id": "9336124ad0fddcc9"
  },
  {
   "cell_type": "code",
   "execution_count": 281,
   "outputs": [
    {
     "data": {
      "text/plain": "0.0004385772725478149"
     },
     "execution_count": 281,
     "metadata": {},
     "output_type": "execute_result"
    }
   ],
   "source": [
    "# find return over the sample\n",
    "df_spy['Return'].mean()"
   ],
   "metadata": {
    "collapsed": false,
    "ExecuteTime": {
     "end_time": "2023-09-30T04:44:30.428699200Z",
     "start_time": "2023-09-30T04:44:29.980002300Z"
    }
   },
   "id": "4f7c765d3c93491b"
  },
  {
   "cell_type": "code",
   "execution_count": 282,
   "outputs": [],
   "source": [
    "# specify month and year for each entry\n",
    "df_spy['Year'], df_spy['Month'] = df_spy.index.year, df_spy.index.month"
   ],
   "metadata": {
    "collapsed": false,
    "ExecuteTime": {
     "end_time": "2023-09-30T04:44:30.428699200Z",
     "start_time": "2023-09-30T04:44:29.996650Z"
    }
   },
   "id": "e63c69d47142f872"
  },
  {
   "cell_type": "code",
   "execution_count": 283,
   "outputs": [
    {
     "data": {
      "text/plain": "Open         1.582197e+02\nHigh         1.592608e+02\nLow          1.570921e+02\nClose        1.583282e+02\nAdj Close    1.318684e+02\nVolume       8.746886e+07\nReturn       2.441323e-03\nYear         2.007336e+03\nMonth        6.466102e+00\ndtype: float64"
     },
     "execution_count": 283,
     "metadata": {},
     "output_type": "execute_result"
    }
   ],
   "source": [
    "# group by year, month and find mean return of the first day\n",
    "df_spy.groupby(['Year', 'Month']).apply(lambda x: x.iloc[0]).mean()"
   ],
   "metadata": {
    "collapsed": false,
    "ExecuteTime": {
     "end_time": "2023-09-30T04:44:30.441655500Z",
     "start_time": "2023-09-30T04:44:30.011600200Z"
    }
   },
   "id": "5bc922f31e1991e2"
  },
  {
   "cell_type": "code",
   "execution_count": 284,
   "outputs": [
    {
     "data": {
      "text/plain": "(Open         1.589775e+02\n High         1.599253e+02\n Low          1.578749e+02\n Close        1.589248e+02\n Adj Close    1.325908e+02\n Volume       8.047841e+07\n Return       6.807369e-04\n Year         2.007336e+03\n Month        6.466102e+00\n dtype: float64,\n 0.0006807369336083447)"
     },
     "execution_count": 284,
     "metadata": {},
     "output_type": "execute_result"
    }
   ],
   "source": [
    "# group by year, month and find mean return of the third-to-the-last trading day of the month\n",
    "df_grouped = df_spy.groupby(['Year', 'Month']).apply(lambda x: x.iloc[-3]).mean()\n",
    "df_grouped, df_grouped['Return']"
   ],
   "metadata": {
    "collapsed": false,
    "ExecuteTime": {
     "end_time": "2023-09-30T04:44:30.442652100Z",
     "start_time": "2023-09-30T04:44:30.058443700Z"
    }
   },
   "id": "72b5e3aff4ff31c1"
  },
  {
   "cell_type": "markdown",
   "source": [
    "Question 2\n",
    "Create a new dataframe that includes all dates on which there is price data available for SPY.  Add the T-Bill yield (the Close column of ^IRX) to this dataframe.  Note that ^IRX is missing on a number of dates that are in SPY, such as 2016-10-10.  You can fill in these missing values using the following command:\n",
    "spy['Tbill yield filled'] = spy['Tbill yield'].fillna(method='ffill')\n",
    "You should take a look at how this works and think about why it is probably ok.  \n",
    "Compute T-bill returns following the instructions at the bottom of this sheet.  What are the mean and standard deviation of excess SPY returns, defined as the SPY return minus the T-bill return?"
   ],
   "metadata": {
    "collapsed": false
   },
   "id": "9e78c5a63e766054"
  },
  {
   "cell_type": "code",
   "execution_count": 285,
   "outputs": [
    {
     "name": "stdout",
     "output_type": "stream",
     "text": [
      "<class 'pandas.core.frame.DataFrame'>\n",
      "DatetimeIndex: 19450 entries, 1960-01-04 to 2022-07-26\n",
      "Data columns (total 6 columns):\n",
      " #   Column     Non-Null Count  Dtype  \n",
      "---  ------     --------------  -----  \n",
      " 0   Open       15651 non-null  float64\n",
      " 1   High       15651 non-null  float64\n",
      " 2   Low        15651 non-null  float64\n",
      " 3   Close      15651 non-null  float64\n",
      " 4   Adj Close  15651 non-null  float64\n",
      " 5   Volume     15651 non-null  float64\n",
      "dtypes: float64(6)\n",
      "memory usage: 1.0 MB\n",
      "<class 'pandas.core.frame.DataFrame'>\n",
      "DatetimeIndex: 7426 entries, 1993-01-29 to 2022-07-26\n",
      "Data columns (total 6 columns):\n",
      " #   Column     Non-Null Count  Dtype  \n",
      "---  ------     --------------  -----  \n",
      " 0   Open       7426 non-null   float64\n",
      " 1   High       7426 non-null   float64\n",
      " 2   Low        7426 non-null   float64\n",
      " 3   Close      7426 non-null   float64\n",
      " 4   Adj Close  7426 non-null   float64\n",
      " 5   Volume     7426 non-null   int64  \n",
      "dtypes: float64(5), int64(1)\n",
      "memory usage: 406.1 KB\n"
     ]
    },
    {
     "data": {
      "text/plain": "(None, None)"
     },
     "execution_count": 285,
     "metadata": {},
     "output_type": "execute_result"
    }
   ],
   "source": [
    "# load datasets\n",
    "irx = pd.read_csv('^IRX.csv',  parse_dates=[0], index_col=[0])\n",
    "spy = pd.read_csv('SPY.csv', parse_dates=[0], index_col=[0])\n",
    "irx.info(), spy.info()"
   ],
   "metadata": {
    "collapsed": false,
    "ExecuteTime": {
     "end_time": "2023-09-30T04:44:30.442652100Z",
     "start_time": "2023-09-30T04:44:30.104782500Z"
    }
   },
   "id": "df5b5e9f4fa968d"
  },
  {
   "cell_type": "code",
   "execution_count": 286,
   "outputs": [
    {
     "data": {
      "text/plain": "                  Open        High         Low       Close   Adj Close  \\\nDate                                                                     \n1993-01-29   43.968750   43.968750   43.750000   43.937500   25.438095   \n1993-02-01   43.968750   44.250000   43.968750   44.250000   25.619024   \n1993-02-02   44.218750   44.375000   44.125000   44.343750   25.673296   \n1993-02-03   44.406250   44.843750   44.375000   44.812500   25.944683   \n1993-02-04   44.968750   45.093750   44.468750   45.000000   26.053244   \n...                ...         ...         ...         ...         ...   \n2022-07-20  392.470001  396.260010  391.029999  394.769989  394.769989   \n2022-07-21  394.160004  398.839996  391.630005  398.790009  398.790009   \n2022-07-22  398.920013  400.179993  392.750000  395.089996  395.089996   \n2022-07-25  395.750000  396.470001  393.209991  395.570007  395.570007   \n2022-07-26  393.839996  394.059998  389.950012  390.890015  390.890015   \n\n              Volume  Tbill yield  \nDate                               \n1993-01-29   1003200        2.900  \n1993-02-01    480500        2.900  \n1993-02-02    201300        2.960  \n1993-02-03    529400        2.930  \n1993-02-04    531500        2.900  \n...              ...          ...  \n2022-07-20  71843800        2.378  \n2022-07-21  64903900        2.360  \n2022-07-22  72130300        2.355  \n2022-07-25  53631500        2.393  \n2022-07-26  52642500        2.475  \n\n[7426 rows x 7 columns]",
      "text/html": "<div>\n<style scoped>\n    .dataframe tbody tr th:only-of-type {\n        vertical-align: middle;\n    }\n\n    .dataframe tbody tr th {\n        vertical-align: top;\n    }\n\n    .dataframe thead th {\n        text-align: right;\n    }\n</style>\n<table border=\"1\" class=\"dataframe\">\n  <thead>\n    <tr style=\"text-align: right;\">\n      <th></th>\n      <th>Open</th>\n      <th>High</th>\n      <th>Low</th>\n      <th>Close</th>\n      <th>Adj Close</th>\n      <th>Volume</th>\n      <th>Tbill yield</th>\n    </tr>\n    <tr>\n      <th>Date</th>\n      <th></th>\n      <th></th>\n      <th></th>\n      <th></th>\n      <th></th>\n      <th></th>\n      <th></th>\n    </tr>\n  </thead>\n  <tbody>\n    <tr>\n      <th>1993-01-29</th>\n      <td>43.968750</td>\n      <td>43.968750</td>\n      <td>43.750000</td>\n      <td>43.937500</td>\n      <td>25.438095</td>\n      <td>1003200</td>\n      <td>2.900</td>\n    </tr>\n    <tr>\n      <th>1993-02-01</th>\n      <td>43.968750</td>\n      <td>44.250000</td>\n      <td>43.968750</td>\n      <td>44.250000</td>\n      <td>25.619024</td>\n      <td>480500</td>\n      <td>2.900</td>\n    </tr>\n    <tr>\n      <th>1993-02-02</th>\n      <td>44.218750</td>\n      <td>44.375000</td>\n      <td>44.125000</td>\n      <td>44.343750</td>\n      <td>25.673296</td>\n      <td>201300</td>\n      <td>2.960</td>\n    </tr>\n    <tr>\n      <th>1993-02-03</th>\n      <td>44.406250</td>\n      <td>44.843750</td>\n      <td>44.375000</td>\n      <td>44.812500</td>\n      <td>25.944683</td>\n      <td>529400</td>\n      <td>2.930</td>\n    </tr>\n    <tr>\n      <th>1993-02-04</th>\n      <td>44.968750</td>\n      <td>45.093750</td>\n      <td>44.468750</td>\n      <td>45.000000</td>\n      <td>26.053244</td>\n      <td>531500</td>\n      <td>2.900</td>\n    </tr>\n    <tr>\n      <th>...</th>\n      <td>...</td>\n      <td>...</td>\n      <td>...</td>\n      <td>...</td>\n      <td>...</td>\n      <td>...</td>\n      <td>...</td>\n    </tr>\n    <tr>\n      <th>2022-07-20</th>\n      <td>392.470001</td>\n      <td>396.260010</td>\n      <td>391.029999</td>\n      <td>394.769989</td>\n      <td>394.769989</td>\n      <td>71843800</td>\n      <td>2.378</td>\n    </tr>\n    <tr>\n      <th>2022-07-21</th>\n      <td>394.160004</td>\n      <td>398.839996</td>\n      <td>391.630005</td>\n      <td>398.790009</td>\n      <td>398.790009</td>\n      <td>64903900</td>\n      <td>2.360</td>\n    </tr>\n    <tr>\n      <th>2022-07-22</th>\n      <td>398.920013</td>\n      <td>400.179993</td>\n      <td>392.750000</td>\n      <td>395.089996</td>\n      <td>395.089996</td>\n      <td>72130300</td>\n      <td>2.355</td>\n    </tr>\n    <tr>\n      <th>2022-07-25</th>\n      <td>395.750000</td>\n      <td>396.470001</td>\n      <td>393.209991</td>\n      <td>395.570007</td>\n      <td>395.570007</td>\n      <td>53631500</td>\n      <td>2.393</td>\n    </tr>\n    <tr>\n      <th>2022-07-26</th>\n      <td>393.839996</td>\n      <td>394.059998</td>\n      <td>389.950012</td>\n      <td>390.890015</td>\n      <td>390.890015</td>\n      <td>52642500</td>\n      <td>2.475</td>\n    </tr>\n  </tbody>\n</table>\n<p>7426 rows × 7 columns</p>\n</div>"
     },
     "execution_count": 286,
     "metadata": {},
     "output_type": "execute_result"
    }
   ],
   "source": [
    "# add t-bill yield\n",
    "spy['Tbill yield'] = irx['Close']\n",
    "spy"
   ],
   "metadata": {
    "collapsed": false,
    "ExecuteTime": {
     "end_time": "2023-09-30T04:44:30.442652100Z",
     "start_time": "2023-09-30T04:44:30.152622500Z"
    }
   },
   "id": "e31530fb32a377f5"
  },
  {
   "cell_type": "code",
   "execution_count": 287,
   "outputs": [],
   "source": [
    "# fill na's\n",
    "spy['Tbill yield filled'] = spy['Tbill yield'].fillna(method='ffill')"
   ],
   "metadata": {
    "collapsed": false,
    "ExecuteTime": {
     "end_time": "2023-09-30T04:44:30.442652100Z",
     "start_time": "2023-09-30T04:44:30.167572200Z"
    }
   },
   "id": "3f04fc396fecc69a"
  },
  {
   "cell_type": "code",
   "execution_count": 288,
   "outputs": [
    {
     "data": {
      "text/plain": "Date\n2016-10-10    0.31\nName: Tbill yield filled, dtype: float64"
     },
     "execution_count": 288,
     "metadata": {},
     "output_type": "execute_result"
    }
   ],
   "source": [
    "# looks ok\n",
    "spy['Tbill yield filled'].loc[spy.index=='2016-10-10']"
   ],
   "metadata": {
    "collapsed": false,
    "ExecuteTime": {
     "end_time": "2023-09-30T04:44:30.442652100Z",
     "start_time": "2023-09-30T04:44:30.184515600Z"
    }
   },
   "id": "faf6f28b59d22758"
  },
  {
   "cell_type": "code",
   "execution_count": 289,
   "outputs": [
    {
     "name": "stdout",
     "output_type": "stream",
     "text": [
      "Date\n",
      "1993-01-29    1.0\n",
      "1993-02-01    3.0\n",
      "1993-02-02    1.0\n",
      "1993-02-03    1.0\n",
      "1993-02-04    1.0\n",
      "             ... \n",
      "2022-07-20    1.0\n",
      "2022-07-21    1.0\n",
      "2022-07-22    1.0\n",
      "2022-07-25    3.0\n",
      "2022-07-26    1.0\n",
      "Name: Nt, Length: 7426, dtype: float64\n"
     ]
    }
   ],
   "source": [
    "# compute Nt by checking difference between dates\n",
    "spy['Nt'] = spy.index.to_series().diff().dt.days.fillna(1)\n",
    "print(spy['Nt'])"
   ],
   "metadata": {
    "collapsed": false,
    "ExecuteTime": {
     "end_time": "2023-09-30T04:44:30.443650100Z",
     "start_time": "2023-09-30T04:44:30.200462500Z"
    }
   },
   "id": "ab0170769935e954"
  },
  {
   "cell_type": "code",
   "execution_count": 290,
   "outputs": [
    {
     "data": {
      "text/plain": "Date\n1993-01-29         NaN\n1993-02-01    0.000238\n1993-02-02    0.000079\n1993-02-03    0.000081\n1993-02-04    0.000080\n                ...   \n2022-07-20    0.000067\n2022-07-21    0.000065\n2022-07-22    0.000065\n2022-07-25    0.000194\n2022-07-26    0.000066\nName: rf, Length: 7426, dtype: float64"
     },
     "execution_count": 290,
     "metadata": {},
     "output_type": "execute_result"
    }
   ],
   "source": [
    "# compute risk-free return\n",
    "spy['rf'] = spy['Tbill yield filled'].shift(1) * spy['Nt']/36500\n",
    "spy['rf']"
   ],
   "metadata": {
    "collapsed": false,
    "ExecuteTime": {
     "end_time": "2023-09-30T04:44:30.445642600Z",
     "start_time": "2023-09-30T04:44:30.216410Z"
    }
   },
   "id": "1efdb2a5e430a11d"
  },
  {
   "cell_type": "code",
   "execution_count": 291,
   "outputs": [
    {
     "data": {
      "text/plain": "Date\n1993-01-29         NaN\n1993-02-01    0.007113\n1993-02-02    0.002118\n1993-02-03    0.010571\n1993-02-04    0.004184\n                ...   \n2022-07-20    0.006373\n2022-07-21    0.010183\n2022-07-22   -0.009278\n2022-07-25    0.001215\n2022-07-26   -0.011831\nName: Return, Length: 7426, dtype: float64"
     },
     "execution_count": 291,
     "metadata": {},
     "output_type": "execute_result"
    }
   ],
   "source": [
    "# find spy returns\n",
    "spy['Return'] = spy['Adj Close'].pct_change()\n",
    "spy['Return']"
   ],
   "metadata": {
    "collapsed": false,
    "ExecuteTime": {
     "end_time": "2023-09-30T04:44:30.505442Z",
     "start_time": "2023-09-30T04:44:30.233353100Z"
    }
   },
   "id": "9e833831f1837ed"
  },
  {
   "cell_type": "code",
   "execution_count": 292,
   "outputs": [
    {
     "data": {
      "text/plain": "count    7403.000000\nmean        0.000351\nstd         0.011886\nmin        -0.109444\n25%        -0.004468\n50%         0.000604\n75%         0.005860\nmax         0.145180\nName: Excess Returns, dtype: float64"
     },
     "execution_count": 292,
     "metadata": {},
     "output_type": "execute_result"
    }
   ],
   "source": [
    "# find excess returns mean and SD\n",
    "spy['Excess Returns'] = spy['Return'] - spy['rf']\n",
    "spy.dropna(inplace=True)\n",
    "spy['Excess Returns'].describe()"
   ],
   "metadata": {
    "collapsed": false,
    "ExecuteTime": {
     "end_time": "2023-09-30T04:44:30.505442Z",
     "start_time": "2023-09-30T04:44:30.246308900Z"
    }
   },
   "id": "9b74a6ee237dc2b6"
  },
  {
   "cell_type": "markdown",
   "source": [
    "Question 3\n",
    "What is the maximum drawdown of OAKMX?  (Hint: use adjusted closing prices for portfolio values and then the cummax() method to get the prior highs.)"
   ],
   "metadata": {
    "collapsed": false
   },
   "id": "9262d9b53d2d8428"
  },
  {
   "cell_type": "code",
   "execution_count": 293,
   "outputs": [],
   "source": [
    "# load dataset\n",
    "oakmx = pd.read_csv('OAKMX.csv',  parse_dates=[0], index_col=[0])"
   ],
   "metadata": {
    "collapsed": false,
    "ExecuteTime": {
     "end_time": "2023-09-30T04:44:30.505442Z",
     "start_time": "2023-09-30T04:44:30.262256200Z"
    }
   },
   "id": "29cfcd1a359bdee2"
  },
  {
   "cell_type": "code",
   "execution_count": 294,
   "outputs": [],
   "source": [
    "# the cummax() method to get the prior highs\n",
    "oakmx['Prior Max'] = oakmx['Adj Close'].cummax()"
   ],
   "metadata": {
    "collapsed": false,
    "ExecuteTime": {
     "end_time": "2023-09-30T04:44:30.505442Z",
     "start_time": "2023-09-30T04:44:30.278203200Z"
    }
   },
   "id": "760e9e8f7c6b8d94"
  },
  {
   "cell_type": "code",
   "execution_count": 295,
   "outputs": [],
   "source": [
    "# calculate drawdowns\n",
    "oakmx['Drawdowns'] = (oakmx['Adj Close'] - oakmx['Prior Max'])/oakmx['Prior Max']"
   ],
   "metadata": {
    "collapsed": false,
    "ExecuteTime": {
     "end_time": "2023-09-30T04:44:30.505442Z",
     "start_time": "2023-09-30T04:44:30.293152400Z"
    }
   },
   "id": "a69156ccb1ad3374"
  },
  {
   "cell_type": "code",
   "execution_count": 296,
   "outputs": [
    {
     "data": {
      "text/plain": "-0.56194799486071"
     },
     "execution_count": 296,
     "metadata": {},
     "output_type": "execute_result"
    }
   ],
   "source": [
    "# find min value for drowdowns (largest drawdown)\n",
    "oakmx['Drawdowns'].min()"
   ],
   "metadata": {
    "collapsed": false,
    "ExecuteTime": {
     "end_time": "2023-09-30T04:44:30.505442Z",
     "start_time": "2023-09-30T04:44:30.309099500Z"
    }
   },
   "id": "144a7c1cb456c0a1"
  },
  {
   "cell_type": "markdown",
   "source": [
    "Question 4\n",
    "What is the downside deviation of OAKMX?  As a benchmark return, use the T-Bill return.\n"
   ],
   "metadata": {
    "collapsed": false
   },
   "id": "8cc857f88b6a04fd"
  },
  {
   "cell_type": "code",
   "execution_count": 297,
   "outputs": [],
   "source": [
    "# calculate oakmax return\n",
    "oakmx['Return'] = oakmx['Adj Close'].pct_change()\n",
    "oakmx['Return'].dropna(inplace=True)"
   ],
   "metadata": {
    "collapsed": false,
    "ExecuteTime": {
     "end_time": "2023-09-30T04:44:30.505442Z",
     "start_time": "2023-09-30T04:44:30.324048300Z"
    }
   },
   "id": "92c0b2b132a218ec"
  },
  {
   "cell_type": "code",
   "execution_count": 298,
   "outputs": [
    {
     "data": {
      "text/plain": "count    7403.000000\nmean        0.000364\nstd         0.011548\nmin        -0.131806\n25%        -0.004426\n50%         0.000670\n75%         0.005460\nmax         0.107211\nName: Excess Return, dtype: float64"
     },
     "execution_count": 298,
     "metadata": {},
     "output_type": "execute_result"
    }
   ],
   "source": [
    "# find excces return for oakmx\n",
    "oakmx['Excess Return'] = oakmx['Return'] - spy['rf']\n",
    "stats = oakmx['Excess Return'].describe()\n",
    "stats"
   ],
   "metadata": {
    "collapsed": false,
    "ExecuteTime": {
     "end_time": "2023-09-30T04:44:30.505442Z",
     "start_time": "2023-09-30T04:44:30.340991900Z"
    }
   },
   "id": "6422612f448f33eb"
  },
  {
   "cell_type": "code",
   "execution_count": 299,
   "outputs": [
    {
     "name": "stdout",
     "output_type": "stream",
     "text": [
      "count                 7403.000000\n",
      "mean                     0.000364\n",
      "std                      0.011548\n",
      "min                     -0.131806\n",
      "25%                     -0.004426\n",
      "50%                      0.000670\n",
      "75%                      0.005460\n",
      "max                      0.107211\n",
      "Downside Deviation       0.008011\n",
      "Name: Excess Return, dtype: float64\n"
     ]
    },
    {
     "name": "stderr",
     "output_type": "stream",
     "text": [
      "C:\\Users\\Daniil\\AppData\\Local\\Temp\\ipykernel_20088\\1687295211.py:3: SettingWithCopyWarning: \n",
      "A value is trying to be set on a copy of a slice from a DataFrame\n",
      "\n",
      "See the caveats in the documentation: https://pandas.pydata.org/pandas-docs/stable/user_guide/indexing.html#returning-a-view-versus-a-copy\n",
      "  oakmx['min squared'].loc[oakmx['Excess Return']<0] = oakmx['Excess Return']**2\n"
     ]
    }
   ],
   "source": [
    "# find downside deviation\n",
    "oakmx['min squared'] = 0\n",
    "oakmx['min squared'].loc[oakmx['Excess Return']<0] = oakmx['Excess Return']**2\n",
    "min2stats = oakmx['min squared'].describe()\n",
    "stats.loc['Downside Deviation'] = np.sqrt(min2stats.loc['mean'])\n",
    "print(stats)"
   ],
   "metadata": {
    "collapsed": false,
    "ExecuteTime": {
     "end_time": "2023-09-30T04:44:30.505442Z",
     "start_time": "2023-09-30T04:44:30.356938600Z"
    }
   },
   "id": "3e18946d664a4f49"
  },
  {
   "cell_type": "markdown",
   "source": [
    "Question 5\n",
    "What is the average excess return on OAKMX when the previous Adjusted Closing price is above its 200-day moving average?  What about when it is below the moving average?  (Hint: use the rolling() method to get the moving average.)  Are these means statistically significant?\n"
   ],
   "metadata": {
    "collapsed": false
   },
   "id": "4619292fa9acb8c2"
  },
  {
   "cell_type": "code",
   "execution_count": 300,
   "outputs": [],
   "source": [
    "# find moving average 200 for oakmx\n",
    "oakmx['MA_200'] = oakmx['Adj Close'].rolling(window=200).mean()\n",
    "oakmx.dropna(inplace=True)"
   ],
   "metadata": {
    "collapsed": false,
    "ExecuteTime": {
     "end_time": "2023-09-30T04:44:30.505442Z",
     "start_time": "2023-09-30T04:44:30.373882Z"
    }
   },
   "id": "325b2acd2618428f"
  },
  {
   "cell_type": "code",
   "execution_count": 301,
   "outputs": [],
   "source": [
    "# find cases when returns are greate\n",
    "oakmx['Prev_MA_200'] = oakmx['MA_200'].shift(1)\n",
    "oakmx['Prev_Adj Close'] = oakmx['Adj Close'].shift(1)\n",
    "above_ma = oakmx[oakmx['Prev_Adj Close'] > oakmx['Prev_MA_200']]['Excess Return']\n",
    "below_ma = oakmx[oakmx['Prev_Adj Close'] <= oakmx['Prev_MA_200']]['Excess Return']\n"
   ],
   "metadata": {
    "collapsed": false,
    "ExecuteTime": {
     "end_time": "2023-09-30T04:44:30.505442Z",
     "start_time": "2023-09-30T04:44:30.390825100Z"
    }
   },
   "id": "922589a8396a9d8e"
  },
  {
   "cell_type": "code",
   "execution_count": 302,
   "outputs": [
    {
     "data": {
      "text/plain": "(0.0003938579981215834, 0.00026732878718344435)"
     },
     "execution_count": 302,
     "metadata": {},
     "output_type": "execute_result"
    }
   ],
   "source": [
    "# What is the average excess return on OAKMX when the previous Adjusted Closing price is above its 200-day moving average?  What about when it is below the moving average?  \n",
    "above_ma.mean(), below_ma.mean()"
   ],
   "metadata": {
    "collapsed": false,
    "ExecuteTime": {
     "end_time": "2023-09-30T04:44:30.506438600Z",
     "start_time": "2023-09-30T04:44:30.405775800Z"
    }
   },
   "id": "9084495ae9e46e51"
  },
  {
   "cell_type": "code",
   "execution_count": 303,
   "outputs": [
    {
     "data": {
      "text/plain": "(3.649496029408021, 0.5901956107225281)"
     },
     "execution_count": 303,
     "metadata": {},
     "output_type": "execute_result"
    }
   ],
   "source": [
    "def calc_t_stat(df):\n",
    "    sample_mean = df.mean()\n",
    "    sample_std = df.std()\n",
    "    n = len(df)\n",
    "    t_stat = sample_mean / (sample_std / n ** (1/2))\n",
    "    return t_stat\n",
    "\n",
    "calc_t_stat(above_ma), calc_t_stat(below_ma)"
   ],
   "metadata": {
    "collapsed": false,
    "ExecuteTime": {
     "end_time": "2023-09-30T04:44:30.527368200Z",
     "start_time": "2023-09-30T04:44:30.420725200Z"
    }
   },
   "id": "d0f30a3a950b9b14"
  },
  {
   "cell_type": "markdown",
   "source": [
    "At significance level alpha = 0.05, t crit = 1.96, we may conclude that above_ma mean excess return is statistically signficant (reject H0, 3.64>1.96), below_ma is not significant (accept H0 0.59<1.96)"
   ],
   "metadata": {
    "collapsed": false
   },
   "id": "73578a9e57da4d77"
  },
  {
   "cell_type": "markdown",
   "source": [
    "Question 6\n",
    "From finance.yahoo.com, download the monthly historical financial data for ticker ARKK, which is the ARK Innovation ETF. Save this as a csv file and read it into your program. Construct a dataframe which includes the monthly returns for this ETF over the months for June 2018-June 2023. This should include a sample of 60 monthly returns. Add to this dataframe the Fama-French 3-factor data from the file ‘FFdata.csv’.  \n"
   ],
   "metadata": {
    "collapsed": false
   },
   "id": "bc3e6b067b9c7e84"
  },
  {
   "cell_type": "code",
   "execution_count": 304,
   "outputs": [],
   "source": [
    "import yfinance"
   ],
   "metadata": {
    "collapsed": false,
    "ExecuteTime": {
     "end_time": "2023-09-30T04:44:30.578198600Z",
     "start_time": "2023-09-30T04:44:30.437669700Z"
    }
   },
   "id": "c6f6614aceadd1d3"
  },
  {
   "cell_type": "code",
   "execution_count": 305,
   "outputs": [],
   "source": [
    "# import df\n",
    "arkk = pd.read_csv('ARKK.csv',  parse_dates=[0], index_col=[0])"
   ],
   "metadata": {
    "collapsed": false,
    "ExecuteTime": {
     "end_time": "2023-09-30T04:44:30.578198600Z",
     "start_time": "2023-09-30T04:44:30.451621700Z"
    }
   },
   "id": "ac42196c66c90a01"
  },
  {
   "cell_type": "code",
   "execution_count": 306,
   "outputs": [
    {
     "data": {
      "text/plain": "                 Open       High        Low      Close  Adj Close   Volume\nDate                                                                      \n2017-10-01  34.439999  35.639999  33.570000  35.509998  32.761589  2674400\n2017-11-01  35.759998  38.200001  33.980000  37.200001  34.320793  4156900\n2017-12-01  37.250000  39.956001  36.060001  37.080002  34.210083  7049400\n2018-01-01  37.340000  42.549000  37.247002  41.240002  38.539669  8727800\n2018-02-01  40.689999  42.540001  36.360001  40.910000  38.231277  8614400",
      "text/html": "<div>\n<style scoped>\n    .dataframe tbody tr th:only-of-type {\n        vertical-align: middle;\n    }\n\n    .dataframe tbody tr th {\n        vertical-align: top;\n    }\n\n    .dataframe thead th {\n        text-align: right;\n    }\n</style>\n<table border=\"1\" class=\"dataframe\">\n  <thead>\n    <tr style=\"text-align: right;\">\n      <th></th>\n      <th>Open</th>\n      <th>High</th>\n      <th>Low</th>\n      <th>Close</th>\n      <th>Adj Close</th>\n      <th>Volume</th>\n    </tr>\n    <tr>\n      <th>Date</th>\n      <th></th>\n      <th></th>\n      <th></th>\n      <th></th>\n      <th></th>\n      <th></th>\n    </tr>\n  </thead>\n  <tbody>\n    <tr>\n      <th>2017-10-01</th>\n      <td>34.439999</td>\n      <td>35.639999</td>\n      <td>33.570000</td>\n      <td>35.509998</td>\n      <td>32.761589</td>\n      <td>2674400</td>\n    </tr>\n    <tr>\n      <th>2017-11-01</th>\n      <td>35.759998</td>\n      <td>38.200001</td>\n      <td>33.980000</td>\n      <td>37.200001</td>\n      <td>34.320793</td>\n      <td>4156900</td>\n    </tr>\n    <tr>\n      <th>2017-12-01</th>\n      <td>37.250000</td>\n      <td>39.956001</td>\n      <td>36.060001</td>\n      <td>37.080002</td>\n      <td>34.210083</td>\n      <td>7049400</td>\n    </tr>\n    <tr>\n      <th>2018-01-01</th>\n      <td>37.340000</td>\n      <td>42.549000</td>\n      <td>37.247002</td>\n      <td>41.240002</td>\n      <td>38.539669</td>\n      <td>8727800</td>\n    </tr>\n    <tr>\n      <th>2018-02-01</th>\n      <td>40.689999</td>\n      <td>42.540001</td>\n      <td>36.360001</td>\n      <td>40.910000</td>\n      <td>38.231277</td>\n      <td>8614400</td>\n    </tr>\n  </tbody>\n</table>\n</div>"
     },
     "execution_count": 306,
     "metadata": {},
     "output_type": "execute_result"
    }
   ],
   "source": [
    "# show head\n",
    "arkk.head()"
   ],
   "metadata": {
    "collapsed": false,
    "ExecuteTime": {
     "end_time": "2023-09-30T04:44:30.605143500Z",
     "start_time": "2023-09-30T04:44:30.467569300Z"
    }
   },
   "id": "8c1d17b42c89e06f"
  },
  {
   "cell_type": "code",
   "execution_count": 307,
   "outputs": [],
   "source": [
    "# filter dates for arkk dataset\n",
    "start = '2018-06-01'\n",
    "end = '2023-06-01'\n",
    "arkk = arkk[(arkk.index >= start) & (arkk.index <= end)]"
   ],
   "metadata": {
    "collapsed": false,
    "ExecuteTime": {
     "end_time": "2023-09-30T04:44:30.637036800Z",
     "start_time": "2023-09-30T04:44:30.483515500Z"
    }
   },
   "id": "84b417fa09cf80da"
  },
  {
   "cell_type": "code",
   "execution_count": 308,
   "outputs": [],
   "source": [
    "# setup arkk to find returns\n",
    "arkk.rename(columns={'Adj Close': 'rets'}, inplace=True)\n",
    "arkk = arkk['rets']"
   ],
   "metadata": {
    "collapsed": false,
    "ExecuteTime": {
     "end_time": "2023-09-30T04:44:30.675906800Z",
     "start_time": "2023-09-30T04:44:30.497469100Z"
    }
   },
   "id": "10fb9d1d6c6df2a0"
  },
  {
   "cell_type": "code",
   "execution_count": 309,
   "outputs": [
    {
     "name": "stdout",
     "output_type": "stream",
     "text": [
      "<class 'pandas.core.series.Series'>\n",
      "DatetimeIndex: 61 entries, 2018-06-01 to 2023-06-01\n",
      "Series name: rets\n",
      "Non-Null Count  Dtype  \n",
      "--------------  -----  \n",
      "60 non-null     float64\n",
      "dtypes: float64(1)\n",
      "memory usage: 976.0 bytes\n"
     ]
    }
   ],
   "source": [
    "# find returns as a series\n",
    "arkk_rets = arkk.pct_change()\n",
    "arkk_rets.info()"
   ],
   "metadata": {
    "collapsed": false,
    "ExecuteTime": {
     "end_time": "2023-09-30T04:44:30.737700400Z",
     "start_time": "2023-09-30T04:44:30.513415600Z"
    }
   },
   "id": "c590afe91f4f2055"
  },
  {
   "cell_type": "code",
   "execution_count": 310,
   "outputs": [
    {
     "name": "stderr",
     "output_type": "stream",
     "text": [
      "C:\\Users\\Daniil\\AppData\\Local\\Temp\\ipykernel_20088\\1363168765.py:1: UserWarning: Could not infer format, so each element will be parsed individually, falling back to `dateutil`. To ensure parsing is consistent and as-expected, please specify a format.\n",
      "  ff = pd.read_csv('FFdata.csv',  parse_dates=[0])\n"
     ]
    }
   ],
   "source": [
    "# upload ff dataset\n",
    "ff = pd.read_csv('FFdata.csv',  parse_dates=[0])"
   ],
   "metadata": {
    "collapsed": false,
    "ExecuteTime": {
     "end_time": "2023-09-30T04:44:30.737700400Z",
     "start_time": "2023-09-30T04:44:30.529362200Z"
    }
   },
   "id": "76e952b9ea36e111"
  },
  {
   "cell_type": "code",
   "execution_count": 311,
   "outputs": [],
   "source": [
    "# filter ff dataset\n",
    "start = '201806'\n",
    "end = '202306'\n",
    "ff = ff[(ff['Date'] >= start) & (ff['Date'] <= end)]"
   ],
   "metadata": {
    "collapsed": false,
    "ExecuteTime": {
     "end_time": "2023-09-30T04:44:30.738696600Z",
     "start_time": "2023-09-30T04:44:30.544311900Z"
    }
   },
   "id": "22340bcc763865a6"
  },
  {
   "cell_type": "code",
   "execution_count": 312,
   "outputs": [
    {
     "data": {
      "text/plain": "            Mkt-RF   SMB   HML    RF\ndatet                               \n2018-06-01    0.48  1.14 -2.34  0.14\n2018-07-01    3.19 -2.22  0.47  0.16\n2018-08-01    3.44  1.14 -3.94  0.16\n2018-09-01    0.06 -2.27 -1.70  0.15\n2018-10-01   -7.68 -4.78  3.40  0.19\n...            ...   ...   ...   ...\n2023-02-01   -2.58  1.17 -0.81  0.34\n2023-03-01    2.51 -5.51 -8.85  0.36\n2023-04-01    0.61 -3.35 -0.04  0.35\n2023-05-01    0.35  1.61 -7.72  0.36\n2023-06-01    6.46  1.54 -0.26  0.40\n\n[61 rows x 4 columns]",
      "text/html": "<div>\n<style scoped>\n    .dataframe tbody tr th:only-of-type {\n        vertical-align: middle;\n    }\n\n    .dataframe tbody tr th {\n        vertical-align: top;\n    }\n\n    .dataframe thead th {\n        text-align: right;\n    }\n</style>\n<table border=\"1\" class=\"dataframe\">\n  <thead>\n    <tr style=\"text-align: right;\">\n      <th></th>\n      <th>Mkt-RF</th>\n      <th>SMB</th>\n      <th>HML</th>\n      <th>RF</th>\n    </tr>\n    <tr>\n      <th>datet</th>\n      <th></th>\n      <th></th>\n      <th></th>\n      <th></th>\n    </tr>\n  </thead>\n  <tbody>\n    <tr>\n      <th>2018-06-01</th>\n      <td>0.48</td>\n      <td>1.14</td>\n      <td>-2.34</td>\n      <td>0.14</td>\n    </tr>\n    <tr>\n      <th>2018-07-01</th>\n      <td>3.19</td>\n      <td>-2.22</td>\n      <td>0.47</td>\n      <td>0.16</td>\n    </tr>\n    <tr>\n      <th>2018-08-01</th>\n      <td>3.44</td>\n      <td>1.14</td>\n      <td>-3.94</td>\n      <td>0.16</td>\n    </tr>\n    <tr>\n      <th>2018-09-01</th>\n      <td>0.06</td>\n      <td>-2.27</td>\n      <td>-1.70</td>\n      <td>0.15</td>\n    </tr>\n    <tr>\n      <th>2018-10-01</th>\n      <td>-7.68</td>\n      <td>-4.78</td>\n      <td>3.40</td>\n      <td>0.19</td>\n    </tr>\n    <tr>\n      <th>...</th>\n      <td>...</td>\n      <td>...</td>\n      <td>...</td>\n      <td>...</td>\n    </tr>\n    <tr>\n      <th>2023-02-01</th>\n      <td>-2.58</td>\n      <td>1.17</td>\n      <td>-0.81</td>\n      <td>0.34</td>\n    </tr>\n    <tr>\n      <th>2023-03-01</th>\n      <td>2.51</td>\n      <td>-5.51</td>\n      <td>-8.85</td>\n      <td>0.36</td>\n    </tr>\n    <tr>\n      <th>2023-04-01</th>\n      <td>0.61</td>\n      <td>-3.35</td>\n      <td>-0.04</td>\n      <td>0.35</td>\n    </tr>\n    <tr>\n      <th>2023-05-01</th>\n      <td>0.35</td>\n      <td>1.61</td>\n      <td>-7.72</td>\n      <td>0.36</td>\n    </tr>\n    <tr>\n      <th>2023-06-01</th>\n      <td>6.46</td>\n      <td>1.54</td>\n      <td>-0.26</td>\n      <td>0.40</td>\n    </tr>\n  </tbody>\n</table>\n<p>61 rows × 4 columns</p>\n</div>"
     },
     "execution_count": 312,
     "metadata": {},
     "output_type": "execute_result"
    }
   ],
   "source": [
    "# remake date column set as an index\n",
    "import datetime\n",
    "format_string = '%Y%m'\n",
    "for i in ff.index:\n",
    "    ff.loc[i,'datet'] = datetime.datetime.strptime(ff.loc[i,'Date'], format_string)\n",
    "ff.set_index('datet',inplace=True)\n",
    "ff = ff.drop(columns=['Date'])\n",
    "ff"
   ],
   "metadata": {
    "collapsed": false,
    "ExecuteTime": {
     "end_time": "2023-09-30T04:44:30.783547Z",
     "start_time": "2023-09-30T04:44:30.559261900Z"
    }
   },
   "id": "f527348f02d34c55"
  },
  {
   "cell_type": "code",
   "execution_count": 313,
   "outputs": [],
   "source": [
    "# scale ff dataset\n",
    "ff['Mkt-RF']=ff['Mkt-RF']/100\n",
    "ff['SMB']=ff['SMB']/100\n",
    "ff['HML']=ff['HML']/100\n",
    "ff['RF']=ff['RF']/100"
   ],
   "metadata": {
    "collapsed": false,
    "ExecuteTime": {
     "end_time": "2023-09-30T04:44:30.867266600Z",
     "start_time": "2023-09-30T04:44:30.576206Z"
    }
   },
   "id": "76f31940bfe72f7a"
  },
  {
   "cell_type": "code",
   "execution_count": 314,
   "outputs": [
    {
     "data": {
      "text/plain": "                rets  Mkt-RF     SMB     HML      RF\nDate                                                \n2018-06-01       NaN  0.0048  0.0114 -0.0234  0.0014\n2018-07-01 -0.009560  0.0319 -0.0222  0.0047  0.0016\n2018-08-01  0.115600  0.0344  0.0114 -0.0394  0.0016\n2018-09-01 -0.047485  0.0006 -0.0227 -0.0170  0.0015\n2018-10-01 -0.100549 -0.0768 -0.0478  0.0340  0.0019\n...              ...     ...     ...     ...     ...\n2023-02-01 -0.007764 -0.0258  0.0117 -0.0081  0.0034\n2023-03-01  0.018173  0.0251 -0.0551 -0.0885  0.0036\n2023-04-01 -0.109569  0.0061 -0.0335 -0.0004  0.0035\n2023-05-01  0.127227  0.0035  0.0161 -0.0772  0.0036\n2023-06-01  0.090146  0.0646  0.0154 -0.0026  0.0040\n\n[61 rows x 5 columns]",
      "text/html": "<div>\n<style scoped>\n    .dataframe tbody tr th:only-of-type {\n        vertical-align: middle;\n    }\n\n    .dataframe tbody tr th {\n        vertical-align: top;\n    }\n\n    .dataframe thead th {\n        text-align: right;\n    }\n</style>\n<table border=\"1\" class=\"dataframe\">\n  <thead>\n    <tr style=\"text-align: right;\">\n      <th></th>\n      <th>rets</th>\n      <th>Mkt-RF</th>\n      <th>SMB</th>\n      <th>HML</th>\n      <th>RF</th>\n    </tr>\n    <tr>\n      <th>Date</th>\n      <th></th>\n      <th></th>\n      <th></th>\n      <th></th>\n      <th></th>\n    </tr>\n  </thead>\n  <tbody>\n    <tr>\n      <th>2018-06-01</th>\n      <td>NaN</td>\n      <td>0.0048</td>\n      <td>0.0114</td>\n      <td>-0.0234</td>\n      <td>0.0014</td>\n    </tr>\n    <tr>\n      <th>2018-07-01</th>\n      <td>-0.009560</td>\n      <td>0.0319</td>\n      <td>-0.0222</td>\n      <td>0.0047</td>\n      <td>0.0016</td>\n    </tr>\n    <tr>\n      <th>2018-08-01</th>\n      <td>0.115600</td>\n      <td>0.0344</td>\n      <td>0.0114</td>\n      <td>-0.0394</td>\n      <td>0.0016</td>\n    </tr>\n    <tr>\n      <th>2018-09-01</th>\n      <td>-0.047485</td>\n      <td>0.0006</td>\n      <td>-0.0227</td>\n      <td>-0.0170</td>\n      <td>0.0015</td>\n    </tr>\n    <tr>\n      <th>2018-10-01</th>\n      <td>-0.100549</td>\n      <td>-0.0768</td>\n      <td>-0.0478</td>\n      <td>0.0340</td>\n      <td>0.0019</td>\n    </tr>\n    <tr>\n      <th>...</th>\n      <td>...</td>\n      <td>...</td>\n      <td>...</td>\n      <td>...</td>\n      <td>...</td>\n    </tr>\n    <tr>\n      <th>2023-02-01</th>\n      <td>-0.007764</td>\n      <td>-0.0258</td>\n      <td>0.0117</td>\n      <td>-0.0081</td>\n      <td>0.0034</td>\n    </tr>\n    <tr>\n      <th>2023-03-01</th>\n      <td>0.018173</td>\n      <td>0.0251</td>\n      <td>-0.0551</td>\n      <td>-0.0885</td>\n      <td>0.0036</td>\n    </tr>\n    <tr>\n      <th>2023-04-01</th>\n      <td>-0.109569</td>\n      <td>0.0061</td>\n      <td>-0.0335</td>\n      <td>-0.0004</td>\n      <td>0.0035</td>\n    </tr>\n    <tr>\n      <th>2023-05-01</th>\n      <td>0.127227</td>\n      <td>0.0035</td>\n      <td>0.0161</td>\n      <td>-0.0772</td>\n      <td>0.0036</td>\n    </tr>\n    <tr>\n      <th>2023-06-01</th>\n      <td>0.090146</td>\n      <td>0.0646</td>\n      <td>0.0154</td>\n      <td>-0.0026</td>\n      <td>0.0040</td>\n    </tr>\n  </tbody>\n</table>\n<p>61 rows × 5 columns</p>\n</div>"
     },
     "execution_count": 314,
     "metadata": {},
     "output_type": "execute_result"
    }
   ],
   "source": [
    "# Add to this dataframe the Fama-French 3-factor data from the file ‘FFdata.csv’.  \n",
    "merged_df = pd.merge(arkk_rets, ff, how='inner', left_index=True, right_index=True)\n",
    "merged_df "
   ],
   "metadata": {
    "collapsed": false,
    "ExecuteTime": {
     "end_time": "2023-09-30T04:44:30.868263400Z",
     "start_time": "2023-09-30T04:44:30.593148900Z"
    }
   },
   "id": "befb32ffb1ebb14e"
  },
  {
   "cell_type": "code",
   "execution_count": 315,
   "outputs": [],
   "source": [
    "# find excess returns\n",
    "merged_df['excess ret']=merged_df['rets'] - merged_df['RF']"
   ],
   "metadata": {
    "collapsed": false,
    "ExecuteTime": {
     "end_time": "2023-09-30T04:44:30.868263400Z",
     "start_time": "2023-09-30T04:44:30.609131Z"
    }
   },
   "id": "fc2ec668d1159f29"
  },
  {
   "cell_type": "code",
   "execution_count": 316,
   "outputs": [
    {
     "data": {
      "text/plain": "(0.0932019792120515, 0.07874197921205153, 0.4172429848579441)"
     },
     "execution_count": 316,
     "metadata": {},
     "output_type": "execute_result"
    }
   ],
   "source": [
    "# a.What has been the average annual return, average annual excess return, and average annual standard deviation for the ARKK ETF? \n",
    "arkk_rets_anl = merged_df['rets'].mean() * 12\n",
    "exs_ret_anl = merged_df['excess ret'].mean() * 12\n",
    "arkk_rets_std = merged_df['rets'].std()*np.sqrt(12)\n",
    "arkk_rets_anl, exs_ret_anl, arkk_rets_std"
   ],
   "metadata": {
    "collapsed": false,
    "ExecuteTime": {
     "end_time": "2023-09-30T04:44:30.869259800Z",
     "start_time": "2023-09-30T04:44:30.624080100Z"
    }
   },
   "id": "b03bf23e8983a60f"
  },
  {
   "cell_type": "code",
   "execution_count": 317,
   "outputs": [
    {
     "data": {
      "text/plain": "0.18876176210187934"
     },
     "execution_count": 317,
     "metadata": {},
     "output_type": "execute_result"
    }
   ],
   "source": [
    "# b.What has been the Sharpe ratio for ARKK over this period? \n",
    "arkk_sharpe = merged_df['excess ret'].mean() / merged_df['excess ret'].std()*np.sqrt(12)\n",
    "arkk_sharpe"
   ],
   "metadata": {
    "collapsed": false,
    "ExecuteTime": {
     "end_time": "2023-09-30T04:44:30.870256800Z",
     "start_time": "2023-09-30T04:44:30.640027100Z"
    }
   },
   "id": "7e1abcdb06c59f1e"
  },
  {
   "cell_type": "markdown",
   "source": [
    "c.\tUsing just the Mkt-rf factor, compute the CAPM beta for the ARKK fund. What has been the alpha for ARKK over this period? Has it been statistically significant? "
   ],
   "metadata": {
    "collapsed": false
   },
   "id": "82a8df957bec514"
  },
  {
   "cell_type": "code",
   "execution_count": 318,
   "outputs": [],
   "source": [
    "# dropna from merged df\n",
    "merged_df = merged_df.dropna()"
   ],
   "metadata": {
    "collapsed": false,
    "ExecuteTime": {
     "end_time": "2023-09-30T04:44:30.870256800Z",
     "start_time": "2023-09-30T04:44:30.656970300Z"
    }
   },
   "id": "bef4159e1cf8d135"
  },
  {
   "cell_type": "code",
   "execution_count": 319,
   "outputs": [
    {
     "data": {
      "text/plain": "LinearRegression()",
      "text/html": "<style>#sk-container-id-2 {color: black;}#sk-container-id-2 pre{padding: 0;}#sk-container-id-2 div.sk-toggleable {background-color: white;}#sk-container-id-2 label.sk-toggleable__label {cursor: pointer;display: block;width: 100%;margin-bottom: 0;padding: 0.3em;box-sizing: border-box;text-align: center;}#sk-container-id-2 label.sk-toggleable__label-arrow:before {content: \"▸\";float: left;margin-right: 0.25em;color: #696969;}#sk-container-id-2 label.sk-toggleable__label-arrow:hover:before {color: black;}#sk-container-id-2 div.sk-estimator:hover label.sk-toggleable__label-arrow:before {color: black;}#sk-container-id-2 div.sk-toggleable__content {max-height: 0;max-width: 0;overflow: hidden;text-align: left;background-color: #f0f8ff;}#sk-container-id-2 div.sk-toggleable__content pre {margin: 0.2em;color: black;border-radius: 0.25em;background-color: #f0f8ff;}#sk-container-id-2 input.sk-toggleable__control:checked~div.sk-toggleable__content {max-height: 200px;max-width: 100%;overflow: auto;}#sk-container-id-2 input.sk-toggleable__control:checked~label.sk-toggleable__label-arrow:before {content: \"▾\";}#sk-container-id-2 div.sk-estimator input.sk-toggleable__control:checked~label.sk-toggleable__label {background-color: #d4ebff;}#sk-container-id-2 div.sk-label input.sk-toggleable__control:checked~label.sk-toggleable__label {background-color: #d4ebff;}#sk-container-id-2 input.sk-hidden--visually {border: 0;clip: rect(1px 1px 1px 1px);clip: rect(1px, 1px, 1px, 1px);height: 1px;margin: -1px;overflow: hidden;padding: 0;position: absolute;width: 1px;}#sk-container-id-2 div.sk-estimator {font-family: monospace;background-color: #f0f8ff;border: 1px dotted black;border-radius: 0.25em;box-sizing: border-box;margin-bottom: 0.5em;}#sk-container-id-2 div.sk-estimator:hover {background-color: #d4ebff;}#sk-container-id-2 div.sk-parallel-item::after {content: \"\";width: 100%;border-bottom: 1px solid gray;flex-grow: 1;}#sk-container-id-2 div.sk-label:hover label.sk-toggleable__label {background-color: #d4ebff;}#sk-container-id-2 div.sk-serial::before {content: \"\";position: absolute;border-left: 1px solid gray;box-sizing: border-box;top: 0;bottom: 0;left: 50%;z-index: 0;}#sk-container-id-2 div.sk-serial {display: flex;flex-direction: column;align-items: center;background-color: white;padding-right: 0.2em;padding-left: 0.2em;position: relative;}#sk-container-id-2 div.sk-item {position: relative;z-index: 1;}#sk-container-id-2 div.sk-parallel {display: flex;align-items: stretch;justify-content: center;background-color: white;position: relative;}#sk-container-id-2 div.sk-item::before, #sk-container-id-2 div.sk-parallel-item::before {content: \"\";position: absolute;border-left: 1px solid gray;box-sizing: border-box;top: 0;bottom: 0;left: 50%;z-index: -1;}#sk-container-id-2 div.sk-parallel-item {display: flex;flex-direction: column;z-index: 1;position: relative;background-color: white;}#sk-container-id-2 div.sk-parallel-item:first-child::after {align-self: flex-end;width: 50%;}#sk-container-id-2 div.sk-parallel-item:last-child::after {align-self: flex-start;width: 50%;}#sk-container-id-2 div.sk-parallel-item:only-child::after {width: 0;}#sk-container-id-2 div.sk-dashed-wrapped {border: 1px dashed gray;margin: 0 0.4em 0.5em 0.4em;box-sizing: border-box;padding-bottom: 0.4em;background-color: white;}#sk-container-id-2 div.sk-label label {font-family: monospace;font-weight: bold;display: inline-block;line-height: 1.2em;}#sk-container-id-2 div.sk-label-container {text-align: center;}#sk-container-id-2 div.sk-container {/* jupyter's `normalize.less` sets `[hidden] { display: none; }` but bootstrap.min.css set `[hidden] { display: none !important; }` so we also need the `!important` here to be able to override the default hidden behavior on the sphinx rendered scikit-learn.org. See: https://github.com/scikit-learn/scikit-learn/issues/21755 */display: inline-block !important;position: relative;}#sk-container-id-2 div.sk-text-repr-fallback {display: none;}</style><div id=\"sk-container-id-2\" class=\"sk-top-container\"><div class=\"sk-text-repr-fallback\"><pre>LinearRegression()</pre><b>In a Jupyter environment, please rerun this cell to show the HTML representation or trust the notebook. <br />On GitHub, the HTML representation is unable to render, please try loading this page with nbviewer.org.</b></div><div class=\"sk-container\" hidden><div class=\"sk-item\"><div class=\"sk-estimator sk-toggleable\"><input class=\"sk-toggleable__control sk-hidden--visually\" id=\"sk-estimator-id-2\" type=\"checkbox\" checked><label for=\"sk-estimator-id-2\" class=\"sk-toggleable__label sk-toggleable__label-arrow\">LinearRegression</label><div class=\"sk-toggleable__content\"><pre>LinearRegression()</pre></div></div></div></div></div>"
     },
     "execution_count": 319,
     "metadata": {},
     "output_type": "execute_result"
    }
   ],
   "source": [
    "# setup linear equation for CAPM\n",
    "from sklearn.linear_model import LinearRegression\n",
    "model = LinearRegression()\n",
    "X = merged_df['Mkt-RF']  #select the X value(s)\n",
    "x=np.array(X).reshape(-1,1) \n",
    "y=np.array(merged_df['excess ret'])\n",
    "model.fit(x,y)"
   ],
   "metadata": {
    "collapsed": false,
    "ExecuteTime": {
     "end_time": "2023-09-30T04:44:30.891186400Z",
     "start_time": "2023-09-30T04:44:30.670923500Z"
    }
   },
   "id": "3ab9cab68dcf0619"
  },
  {
   "cell_type": "code",
   "execution_count": 320,
   "outputs": [
    {
     "name": "stdout",
     "output_type": "stream",
     "text": [
      "[1.67760937]\n"
     ]
    }
   ],
   "source": [
    "# compute the CAPM beta for the ARKK fund\n",
    "beta=model.coef_\n",
    "print(beta)"
   ],
   "metadata": {
    "collapsed": false,
    "ExecuteTime": {
     "end_time": "2023-09-30T04:44:30.933046300Z",
     "start_time": "2023-09-30T04:44:30.686870700Z"
    }
   },
   "id": "3ce9d04438b25067"
  },
  {
   "cell_type": "code",
   "execution_count": 321,
   "outputs": [
    {
     "name": "stdout",
     "output_type": "stream",
     "text": [
      "-0.009129408034746399\n"
     ]
    }
   ],
   "source": [
    "# What has been the alpha for ARKK over this period? \n",
    "alpha=model.intercept_\n",
    "print(alpha)"
   ],
   "metadata": {
    "collapsed": false,
    "ExecuteTime": {
     "end_time": "2023-09-30T04:44:30.954972800Z",
     "start_time": "2023-09-30T04:44:30.703813900Z"
    }
   },
   "id": "f4dfa73e5b2b6bf6"
  },
  {
   "cell_type": "code",
   "execution_count": 322,
   "outputs": [
    {
     "name": "stdout",
     "output_type": "stream",
     "text": [
      "0.6168504753819245\n"
     ]
    }
   ],
   "source": [
    "# find r squared\n",
    "r_sq = model.score(x,y)\n",
    "print(r_sq)"
   ],
   "metadata": {
    "collapsed": false,
    "ExecuteTime": {
     "end_time": "2023-09-30T04:44:30.983876100Z",
     "start_time": "2023-09-30T04:44:30.719760100Z"
    }
   },
   "id": "4d92dec5233c5c82"
  },
  {
   "cell_type": "code",
   "execution_count": 323,
   "outputs": [
    {
     "name": "stdout",
     "output_type": "stream",
     "text": [
      "const     3.573880e-01\n",
      "Mkt-RF    1.087816e-13\n",
      "Name: P>|t|, dtype: float64\n"
     ]
    }
   ],
   "source": [
    "# test significance\n",
    "import statsmodels.api as sm\n",
    "X = sm.add_constant(X)\n",
    "model = sm.OLS(y, X).fit()\n",
    "p_values = model.summary2().tables[1]['P>|t|']\n",
    "print(p_values)"
   ],
   "metadata": {
    "collapsed": false,
    "ExecuteTime": {
     "end_time": "2023-09-30T04:44:31.204381900Z",
     "start_time": "2023-09-30T04:44:30.736703400Z"
    }
   },
   "id": "9f413c7f1f2f24bd"
  },
  {
   "cell_type": "markdown",
   "source": [
    "At significance level alpha = 0.05, we may conclude that alpha is statistically signficant (3.573880e-01)"
   ],
   "metadata": {
    "collapsed": false
   },
   "id": "15133d8cad6c4860"
  },
  {
   "cell_type": "code",
   "execution_count": 324,
   "outputs": [
    {
     "name": "stdout",
     "output_type": "stream",
     "text": [
      "Annualized return above benchmark:  -0.03349802078794849\n",
      "Annualized alpha:  -0.10955289641695679\n"
     ]
    }
   ],
   "source": [
    "# show some stats\n",
    "return_above_mkt = merged_df['excess ret'].mean() - merged_df['Mkt-RF'].mean()\n",
    "print('Annualized return above benchmark: ',return_above_mkt*12)\n",
    "print('Annualized alpha: ', alpha*12)"
   ],
   "metadata": {
    "collapsed": false,
    "ExecuteTime": {
     "end_time": "2023-09-30T04:44:31.204381900Z",
     "start_time": "2023-09-30T04:44:31.097458400Z"
    }
   },
   "id": "3311cecadf3be6d2"
  },
  {
   "cell_type": "code",
   "execution_count": 325,
   "outputs": [
    {
     "data": {
      "text/plain": "LinearRegression()",
      "text/html": "<style>#sk-container-id-3 {color: black;}#sk-container-id-3 pre{padding: 0;}#sk-container-id-3 div.sk-toggleable {background-color: white;}#sk-container-id-3 label.sk-toggleable__label {cursor: pointer;display: block;width: 100%;margin-bottom: 0;padding: 0.3em;box-sizing: border-box;text-align: center;}#sk-container-id-3 label.sk-toggleable__label-arrow:before {content: \"▸\";float: left;margin-right: 0.25em;color: #696969;}#sk-container-id-3 label.sk-toggleable__label-arrow:hover:before {color: black;}#sk-container-id-3 div.sk-estimator:hover label.sk-toggleable__label-arrow:before {color: black;}#sk-container-id-3 div.sk-toggleable__content {max-height: 0;max-width: 0;overflow: hidden;text-align: left;background-color: #f0f8ff;}#sk-container-id-3 div.sk-toggleable__content pre {margin: 0.2em;color: black;border-radius: 0.25em;background-color: #f0f8ff;}#sk-container-id-3 input.sk-toggleable__control:checked~div.sk-toggleable__content {max-height: 200px;max-width: 100%;overflow: auto;}#sk-container-id-3 input.sk-toggleable__control:checked~label.sk-toggleable__label-arrow:before {content: \"▾\";}#sk-container-id-3 div.sk-estimator input.sk-toggleable__control:checked~label.sk-toggleable__label {background-color: #d4ebff;}#sk-container-id-3 div.sk-label input.sk-toggleable__control:checked~label.sk-toggleable__label {background-color: #d4ebff;}#sk-container-id-3 input.sk-hidden--visually {border: 0;clip: rect(1px 1px 1px 1px);clip: rect(1px, 1px, 1px, 1px);height: 1px;margin: -1px;overflow: hidden;padding: 0;position: absolute;width: 1px;}#sk-container-id-3 div.sk-estimator {font-family: monospace;background-color: #f0f8ff;border: 1px dotted black;border-radius: 0.25em;box-sizing: border-box;margin-bottom: 0.5em;}#sk-container-id-3 div.sk-estimator:hover {background-color: #d4ebff;}#sk-container-id-3 div.sk-parallel-item::after {content: \"\";width: 100%;border-bottom: 1px solid gray;flex-grow: 1;}#sk-container-id-3 div.sk-label:hover label.sk-toggleable__label {background-color: #d4ebff;}#sk-container-id-3 div.sk-serial::before {content: \"\";position: absolute;border-left: 1px solid gray;box-sizing: border-box;top: 0;bottom: 0;left: 50%;z-index: 0;}#sk-container-id-3 div.sk-serial {display: flex;flex-direction: column;align-items: center;background-color: white;padding-right: 0.2em;padding-left: 0.2em;position: relative;}#sk-container-id-3 div.sk-item {position: relative;z-index: 1;}#sk-container-id-3 div.sk-parallel {display: flex;align-items: stretch;justify-content: center;background-color: white;position: relative;}#sk-container-id-3 div.sk-item::before, #sk-container-id-3 div.sk-parallel-item::before {content: \"\";position: absolute;border-left: 1px solid gray;box-sizing: border-box;top: 0;bottom: 0;left: 50%;z-index: -1;}#sk-container-id-3 div.sk-parallel-item {display: flex;flex-direction: column;z-index: 1;position: relative;background-color: white;}#sk-container-id-3 div.sk-parallel-item:first-child::after {align-self: flex-end;width: 50%;}#sk-container-id-3 div.sk-parallel-item:last-child::after {align-self: flex-start;width: 50%;}#sk-container-id-3 div.sk-parallel-item:only-child::after {width: 0;}#sk-container-id-3 div.sk-dashed-wrapped {border: 1px dashed gray;margin: 0 0.4em 0.5em 0.4em;box-sizing: border-box;padding-bottom: 0.4em;background-color: white;}#sk-container-id-3 div.sk-label label {font-family: monospace;font-weight: bold;display: inline-block;line-height: 1.2em;}#sk-container-id-3 div.sk-label-container {text-align: center;}#sk-container-id-3 div.sk-container {/* jupyter's `normalize.less` sets `[hidden] { display: none; }` but bootstrap.min.css set `[hidden] { display: none !important; }` so we also need the `!important` here to be able to override the default hidden behavior on the sphinx rendered scikit-learn.org. See: https://github.com/scikit-learn/scikit-learn/issues/21755 */display: inline-block !important;position: relative;}#sk-container-id-3 div.sk-text-repr-fallback {display: none;}</style><div id=\"sk-container-id-3\" class=\"sk-top-container\"><div class=\"sk-text-repr-fallback\"><pre>LinearRegression()</pre><b>In a Jupyter environment, please rerun this cell to show the HTML representation or trust the notebook. <br />On GitHub, the HTML representation is unable to render, please try loading this page with nbviewer.org.</b></div><div class=\"sk-container\" hidden><div class=\"sk-item\"><div class=\"sk-estimator sk-toggleable\"><input class=\"sk-toggleable__control sk-hidden--visually\" id=\"sk-estimator-id-3\" type=\"checkbox\" checked><label for=\"sk-estimator-id-3\" class=\"sk-toggleable__label sk-toggleable__label-arrow\">LinearRegression</label><div class=\"sk-toggleable__content\"><pre>LinearRegression()</pre></div></div></div></div></div>"
     },
     "execution_count": 325,
     "metadata": {},
     "output_type": "execute_result"
    }
   ],
   "source": [
    "# run fama french model\n",
    "ffmodel=LinearRegression()\n",
    "X = merged_df[['Mkt-RF','SMB','HML']]  #select the X values -- here we take three regressors\n",
    "x=np.array(X).reshape(-1,3) \n",
    "y=np.array(merged_df['excess ret'])\n",
    "ffmodel.fit(x,y)"
   ],
   "metadata": {
    "collapsed": false,
    "ExecuteTime": {
     "end_time": "2023-09-30T04:44:31.226308600Z",
     "start_time": "2023-09-30T04:44:31.113626900Z"
    }
   },
   "id": "d604ad4fef49d971"
  },
  {
   "cell_type": "code",
   "execution_count": 326,
   "outputs": [
    {
     "data": {
      "text/plain": "-0.07228225219674655"
     },
     "execution_count": 326,
     "metadata": {},
     "output_type": "execute_result"
    }
   ],
   "source": [
    "# What has been the alpha under the 3-factor model? \n",
    "ff_alpha=ffmodel.intercept_*12\n",
    "ff_alpha"
   ],
   "metadata": {
    "collapsed": false,
    "ExecuteTime": {
     "end_time": "2023-09-30T04:44:31.281139400Z",
     "start_time": "2023-09-30T04:44:31.127580Z"
    }
   },
   "id": "ec83bcbf570dce0"
  },
  {
   "cell_type": "code",
   "execution_count": 327,
   "outputs": [
    {
     "data": {
      "text/plain": "array([ 1.44063754,  1.51653622, -0.84374106])"
     },
     "execution_count": 327,
     "metadata": {},
     "output_type": "execute_result"
    }
   ],
   "source": [
    "# What are the factor loadings? \n",
    "ff_betas = ffmodel.coef_\n",
    "ff_betas"
   ],
   "metadata": {
    "collapsed": false,
    "ExecuteTime": {
     "end_time": "2023-09-30T04:44:31.308050600Z",
     "start_time": "2023-09-30T04:44:31.141533300Z"
    }
   },
   "id": "e21ff90b46f6bad3"
  },
  {
   "cell_type": "code",
   "execution_count": 328,
   "outputs": [
    {
     "data": {
      "text/plain": "0.8396166263981005"
     },
     "execution_count": 328,
     "metadata": {},
     "output_type": "execute_result"
    }
   ],
   "source": [
    "# show r squared for fama french\n",
    "ffmodel.score(x,y)"
   ],
   "metadata": {
    "collapsed": false,
    "ExecuteTime": {
     "end_time": "2023-09-30T04:44:31.309047300Z",
     "start_time": "2023-09-30T04:44:31.160470700Z"
    }
   },
   "id": "bfe146d6df664072"
  },
  {
   "cell_type": "code",
   "execution_count": 329,
   "outputs": [
    {
     "name": "stdout",
     "output_type": "stream",
     "text": [
      "const     3.621086e-01\n",
      "Mkt-RF    6.464675e-17\n",
      "SMB       6.785435e-08\n",
      "HML       9.753188e-08\n",
      "Name: P>|t|, dtype: float64\n"
     ]
    }
   ],
   "source": [
    "# Is it statistically significant? \n",
    "X = sm.add_constant(X)\n",
    "model = sm.OLS(y, X).fit()\n",
    "p_values = model.summary2().tables[1]['P>|t|']\n",
    "print(p_values)"
   ],
   "metadata": {
    "collapsed": false,
    "ExecuteTime": {
     "end_time": "2023-09-30T04:44:31.310043900Z",
     "start_time": "2023-09-30T04:44:31.176416600Z"
    }
   },
   "id": "83ca41ba725c5551"
  },
  {
   "cell_type": "markdown",
   "source": [
    "At significance level alpha = 0.05, we may conclude that alpha is statistically signficant (3.621086e-01)"
   ],
   "metadata": {
    "collapsed": false
   },
   "id": "465154dd111084a5"
  },
  {
   "cell_type": "markdown",
   "source": [
    "e.\tIn a markdown cell, explain why the alpha from the CAPM model is different from the alpha from the FF 3-factor model. Explain how the factor loadings from the 3-factor model regression reflect the type of stocks that ARKK tends to hold in its portfolio. "
   ],
   "metadata": {
    "collapsed": false
   },
   "id": "3a6d7fdd9bca89e0"
  },
  {
   "cell_type": "markdown",
   "source": [
    "While the CAPM alpha considers only market risk, the Fama-French 3-Factor Model alpha accounts for market risk, size risk (SMB), and value risk (HML). This difference reflects how additional risk factors beyond the market influence an asset's returns. Here the negative alpha in both models signals that ARKK fund's performance was below that of the market. "
   ],
   "metadata": {
    "collapsed": false
   },
   "id": "f7e9caf944d71ce4"
  },
  {
   "cell_type": "markdown",
   "source": [
    "A positive factor loading on the Market (Mkt-RF) factor (1.440638) suggests that the fund tends to perform well when the broader market does.\n",
    "A positive factor loading on the Size (SMB) factor (1.516536) indicates exposure to small-cap stocks, potentially benefiting from their outperformance.\n",
    "The negative factor loading on the Value (HML) factor (-0.843741) implies a preference away from value-oriented stocks."
   ],
   "metadata": {
    "collapsed": false
   },
   "id": "a5ec5b1744ea6bff"
  }
 ],
 "metadata": {
  "kernelspec": {
   "display_name": "Python 3",
   "language": "python",
   "name": "python3"
  },
  "language_info": {
   "codemirror_mode": {
    "name": "ipython",
    "version": 2
   },
   "file_extension": ".py",
   "mimetype": "text/x-python",
   "name": "python",
   "nbconvert_exporter": "python",
   "pygments_lexer": "ipython2",
   "version": "2.7.6"
  }
 },
 "nbformat": 4,
 "nbformat_minor": 5
}
