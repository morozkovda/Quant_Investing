{
 "nbformat": 4,
 "nbformat_minor": 0,
 "metadata": {
  "colab": {
   "provenance": [],
   "authorship_tag": "ABX9TyMhbkraPwTX51e45XtqtGyF"
  },
  "kernelspec": {
   "name": "python3",
   "language": "python",
   "display_name": "Python 3 (ipykernel)"
  },
  "language_info": {
   "name": "python"
  }
 },
 "cells": [
  {
   "cell_type": "markdown",
   "source": [
    "Homework 3\n",
    "Authors: Daniil Morozkov,"
   ],
   "metadata": {
    "collapsed": false
   }
  },
  {
   "cell_type": "markdown",
   "source": [
    "Question 1\n",
    "Describe your data and take reasonable steps to clean the data. "
   ],
   "metadata": {
    "collapsed": false
   }
  },
  {
   "cell_type": "code",
   "execution_count": 288,
   "outputs": [],
   "source": [
    "# import libraries\n",
    "import pandas as pd\n",
    "import numpy as np"
   ],
   "metadata": {
    "collapsed": false,
    "ExecuteTime": {
     "end_time": "2023-10-03T02:34:35.501117700Z",
     "start_time": "2023-10-03T02:34:35.389760500Z"
    }
   }
  },
  {
   "cell_type": "code",
   "execution_count": 289,
   "outputs": [],
   "source": [
    "# upload dataset\n",
    "crsp = pd.read_excel('CRSP_Dividends.xlsx')"
   ],
   "metadata": {
    "collapsed": false,
    "ExecuteTime": {
     "end_time": "2023-10-03T02:35:15.960964700Z",
     "start_time": "2023-10-03T02:34:35.396737700Z"
    }
   }
  },
  {
   "cell_type": "code",
   "execution_count": 290,
   "outputs": [
    {
     "name": "stdout",
     "output_type": "stream",
     "text": [
      "<class 'pandas.core.frame.DataFrame'>\n",
      "RangeIndex: 458220 entries, 0 to 458219\n",
      "Data columns (total 15 columns):\n",
      " #   Column   Non-Null Count   Dtype         \n",
      "---  ------   --------------   -----         \n",
      " 0   PERMNO   458220 non-null  int64         \n",
      " 1   date     458220 non-null  datetime64[ns]\n",
      " 2   SHRCD    458220 non-null  int64         \n",
      " 3   PERMCO   458220 non-null  int64         \n",
      " 4   DISTCD   458220 non-null  int64         \n",
      " 5   DIVAMT   458220 non-null  float64       \n",
      " 6   PRC      458220 non-null  float64       \n",
      " 7   VOL      416627 non-null  float64       \n",
      " 8   RET      458220 non-null  float64       \n",
      " 9   BID      227403 non-null  float64       \n",
      " 10  ASK      227403 non-null  float64       \n",
      " 11  SHROUT   458220 non-null  int64         \n",
      " 12  OPENPRC  196763 non-null  float64       \n",
      " 13  RETX     458220 non-null  float64       \n",
      " 14  vwretd   458220 non-null  float64       \n",
      "dtypes: datetime64[ns](1), float64(9), int64(5)\n",
      "memory usage: 52.4 MB\n"
     ]
    }
   ],
   "source": [
    "# check info\n",
    "crsp.info()"
   ],
   "metadata": {
    "collapsed": false,
    "ExecuteTime": {
     "end_time": "2023-10-03T02:35:15.975924100Z",
     "start_time": "2023-10-03T02:35:15.960964700Z"
    }
   }
  },
  {
   "cell_type": "code",
   "execution_count": 291,
   "outputs": [
    {
     "data": {
      "text/plain": "   PERMNO       date  SHRCD  PERMCO  DISTCD  DIVAMT     PRC     VOL       RET  \\\n0   10001 1986-03-10     11    7953    1232   0.095 -6.2500   100.0  0.015200   \n1   10001 1986-06-09     11    7953    1232   0.105 -6.1875  1050.0  0.016970   \n2   10001 1986-09-08     11    7953    1232   0.105  6.7500  1610.0  0.054615   \n3   10001 1986-12-08     11    7953    1232   0.105  6.5000   400.0  0.016154   \n4   10001 1987-03-09     11    7953    1232   0.105  6.1250   650.0  0.027629   \n\n     BID   ASK  SHROUT  OPENPRC      RETX    vwretd  \n0    NaN   NaN     985      NaN  0.000000  0.004365  \n1    NaN   NaN     985      NaN  0.000000 -0.019374  \n2  6.375  6.75     985      NaN  0.038462 -0.010801  \n3  6.500  7.00     991      NaN  0.000000 -0.000944  \n4  5.875  6.25     991      NaN  0.010309 -0.006488  ",
      "text/html": "<div>\n<style scoped>\n    .dataframe tbody tr th:only-of-type {\n        vertical-align: middle;\n    }\n\n    .dataframe tbody tr th {\n        vertical-align: top;\n    }\n\n    .dataframe thead th {\n        text-align: right;\n    }\n</style>\n<table border=\"1\" class=\"dataframe\">\n  <thead>\n    <tr style=\"text-align: right;\">\n      <th></th>\n      <th>PERMNO</th>\n      <th>date</th>\n      <th>SHRCD</th>\n      <th>PERMCO</th>\n      <th>DISTCD</th>\n      <th>DIVAMT</th>\n      <th>PRC</th>\n      <th>VOL</th>\n      <th>RET</th>\n      <th>BID</th>\n      <th>ASK</th>\n      <th>SHROUT</th>\n      <th>OPENPRC</th>\n      <th>RETX</th>\n      <th>vwretd</th>\n    </tr>\n  </thead>\n  <tbody>\n    <tr>\n      <th>0</th>\n      <td>10001</td>\n      <td>1986-03-10</td>\n      <td>11</td>\n      <td>7953</td>\n      <td>1232</td>\n      <td>0.095</td>\n      <td>-6.2500</td>\n      <td>100.0</td>\n      <td>0.015200</td>\n      <td>NaN</td>\n      <td>NaN</td>\n      <td>985</td>\n      <td>NaN</td>\n      <td>0.000000</td>\n      <td>0.004365</td>\n    </tr>\n    <tr>\n      <th>1</th>\n      <td>10001</td>\n      <td>1986-06-09</td>\n      <td>11</td>\n      <td>7953</td>\n      <td>1232</td>\n      <td>0.105</td>\n      <td>-6.1875</td>\n      <td>1050.0</td>\n      <td>0.016970</td>\n      <td>NaN</td>\n      <td>NaN</td>\n      <td>985</td>\n      <td>NaN</td>\n      <td>0.000000</td>\n      <td>-0.019374</td>\n    </tr>\n    <tr>\n      <th>2</th>\n      <td>10001</td>\n      <td>1986-09-08</td>\n      <td>11</td>\n      <td>7953</td>\n      <td>1232</td>\n      <td>0.105</td>\n      <td>6.7500</td>\n      <td>1610.0</td>\n      <td>0.054615</td>\n      <td>6.375</td>\n      <td>6.75</td>\n      <td>985</td>\n      <td>NaN</td>\n      <td>0.038462</td>\n      <td>-0.010801</td>\n    </tr>\n    <tr>\n      <th>3</th>\n      <td>10001</td>\n      <td>1986-12-08</td>\n      <td>11</td>\n      <td>7953</td>\n      <td>1232</td>\n      <td>0.105</td>\n      <td>6.5000</td>\n      <td>400.0</td>\n      <td>0.016154</td>\n      <td>6.500</td>\n      <td>7.00</td>\n      <td>991</td>\n      <td>NaN</td>\n      <td>0.000000</td>\n      <td>-0.000944</td>\n    </tr>\n    <tr>\n      <th>4</th>\n      <td>10001</td>\n      <td>1987-03-09</td>\n      <td>11</td>\n      <td>7953</td>\n      <td>1232</td>\n      <td>0.105</td>\n      <td>6.1250</td>\n      <td>650.0</td>\n      <td>0.027629</td>\n      <td>5.875</td>\n      <td>6.25</td>\n      <td>991</td>\n      <td>NaN</td>\n      <td>0.010309</td>\n      <td>-0.006488</td>\n    </tr>\n  </tbody>\n</table>\n</div>"
     },
     "execution_count": 291,
     "metadata": {},
     "output_type": "execute_result"
    }
   ],
   "source": [
    "# show few entries\n",
    "crsp.head()"
   ],
   "metadata": {
    "collapsed": false,
    "ExecuteTime": {
     "end_time": "2023-10-03T02:35:16.021770500Z",
     "start_time": "2023-10-03T02:35:15.976920600Z"
    }
   }
  },
  {
   "cell_type": "code",
   "execution_count": 292,
   "outputs": [
    {
     "data": {
      "text/plain": "True"
     },
     "execution_count": 292,
     "metadata": {},
     "output_type": "execute_result"
    }
   ],
   "source": [
    "# check if there are any dividend amounts less than 0.01\n",
    "(crsp['DIVAMT']<0.01).any()"
   ],
   "metadata": {
    "collapsed": false,
    "ExecuteTime": {
     "end_time": "2023-10-03T02:35:16.053664Z",
     "start_time": "2023-10-03T02:35:15.991870900Z"
    }
   }
  },
  {
   "cell_type": "code",
   "execution_count": 293,
   "outputs": [],
   "source": [
    "# remove dividend amounts less than 0.01\n",
    "crsp = crsp.loc[crsp['DIVAMT'] >= 0.01]"
   ],
   "metadata": {
    "collapsed": false,
    "ExecuteTime": {
     "end_time": "2023-10-03T02:35:16.110835700Z",
     "start_time": "2023-10-03T02:35:16.007817300Z"
    }
   }
  },
  {
   "cell_type": "code",
   "execution_count": 294,
   "outputs": [],
   "source": [
    "# Negative prices indicate a stock that did not trade that day; common practice is to set those equal to the absolute value of the price.\n",
    "crsp['PRC'] = abs(crsp['PRC'])"
   ],
   "metadata": {
    "collapsed": false,
    "ExecuteTime": {
     "end_time": "2023-10-03T02:35:16.132762400Z",
     "start_time": "2023-10-03T02:35:16.103859300Z"
    }
   }
  },
  {
   "cell_type": "code",
   "execution_count": 295,
   "outputs": [
    {
     "data": {
      "text/plain": "True"
     },
     "execution_count": 295,
     "metadata": {},
     "output_type": "execute_result"
    }
   ],
   "source": [
    "# check if there are any stocks that have a market capitalization below $50M\n",
    "crsp['MKT'] = crsp['SHROUT']*crsp['PRC']\n",
    "(crsp['MKT']<50000).any()"
   ],
   "metadata": {
    "collapsed": false,
    "ExecuteTime": {
     "end_time": "2023-10-03T02:35:16.163658700Z",
     "start_time": "2023-10-03T02:35:16.119806300Z"
    }
   }
  },
  {
   "cell_type": "code",
   "execution_count": 296,
   "outputs": [],
   "source": [
    "# remove entries that have a market capitalization below $50M\n",
    "crsp = crsp.loc[crsp['SHROUT']*crsp['PRC'] >= 50000]"
   ],
   "metadata": {
    "collapsed": false,
    "ExecuteTime": {
     "end_time": "2023-10-03T02:35:16.172629100Z",
     "start_time": "2023-10-03T02:35:16.135751800Z"
    }
   }
  },
  {
   "cell_type": "code",
   "execution_count": 297,
   "outputs": [
    {
     "data": {
      "text/plain": "False"
     },
     "execution_count": 297,
     "metadata": {},
     "output_type": "execute_result"
    }
   ],
   "source": [
    "# check again, make sure everything worked out\n",
    "(crsp['MKT']<50000).any()"
   ],
   "metadata": {
    "collapsed": false,
    "ExecuteTime": {
     "end_time": "2023-10-03T02:35:16.195552500Z",
     "start_time": "2023-10-03T02:35:16.166649300Z"
    }
   }
  },
  {
   "cell_type": "code",
   "execution_count": 298,
   "outputs": [],
   "source": [
    "# •\tImportantly, read through the remainder of this assignment and think about how you should handle observations where VOL = 0. Let's remove them.\n",
    "crsp = crsp.loc[crsp['VOL']>0]"
   ],
   "metadata": {
    "collapsed": false,
    "ExecuteTime": {
     "end_time": "2023-10-03T02:35:16.221466200Z",
     "start_time": "2023-10-03T02:35:16.182595700Z"
    }
   }
  },
  {
   "cell_type": "code",
   "execution_count": 299,
   "outputs": [
    {
     "data": {
      "text/plain": "              PERMNO                           date          SHRCD  \\\ncount  322567.000000                         322567  322567.000000   \nmean    47261.920472  1995-01-14 20:40:07.760248192      10.871881   \nmin     10001.000000            1962-01-02 00:00:00      10.000000   \n25%     22955.000000            1982-11-12 00:00:00      11.000000   \n50%     44329.000000            1995-06-14 00:00:00      11.000000   \n75%     75333.000000            2008-05-28 00:00:00      11.000000   \nmax     93429.000000            2023-06-30 00:00:00      11.000000   \nstd     26574.565424                            NaN       0.334223   \n\n              PERMCO         DISTCD         DIVAMT           PRC  \\\ncount  322567.000000  322567.000000  322567.000000  322567.00000   \nmean    19186.866784    1232.696131       0.253194      37.29405   \nmin         4.000000    1202.000000       0.010000       1.01000   \n25%      9449.000000    1232.000000       0.100000      18.71000   \n50%     20834.000000    1232.000000       0.190000      28.20000   \n75%     22449.000000    1232.000000       0.320000      42.87500   \nmax     59543.000000    1294.000000      85.000000    4280.04004   \nstd     12216.603207       5.719189       0.501875      54.72760   \n\n                VOL            RET            BID            ASK  \\\ncount  3.225670e+05  322567.000000  192594.000000  192594.000000   \nmean   6.705685e+05       0.002409      39.678352      39.952865   \nmin    1.000000e+00      -0.729864       1.000000       1.010000   \n25%    5.725000e+03      -0.008268      17.800000      18.070000   \n50%    3.500000e+04       0.002105      27.850000      28.125000   \n75%    2.680610e+05       0.012213      44.550000      44.830000   \nmax    4.634910e+08       0.696822    4261.959960    4280.040040   \nstd    3.752105e+06       0.022643      67.430465      67.679871   \n\n             SHROUT        OPENPRC           RETX         vwretd           MKT  \ncount  3.225670e+05  181549.000000  322567.000000  322567.000000  3.225670e+05  \nmean   1.054957e+05      40.949164      -0.005888       0.000430  5.238313e+06  \nmin    1.910000e+02       0.500000      -0.878553      -0.171346  5.000000e+04  \n25%    7.724000e+03      18.200000      -0.017045      -0.003954  1.671280e+05  \n50%    2.016200e+04      28.750000      -0.005435       0.000806  5.288400e+05  \n75%    6.124550e+04      46.062500       0.005025       0.005242  2.112365e+06  \nmax    1.700180e+07    4411.959960       0.691589       0.114921  2.813308e+09  \nstd    4.347917e+05      69.597442       0.025614       0.010174  2.992906e+07  ",
      "text/html": "<div>\n<style scoped>\n    .dataframe tbody tr th:only-of-type {\n        vertical-align: middle;\n    }\n\n    .dataframe tbody tr th {\n        vertical-align: top;\n    }\n\n    .dataframe thead th {\n        text-align: right;\n    }\n</style>\n<table border=\"1\" class=\"dataframe\">\n  <thead>\n    <tr style=\"text-align: right;\">\n      <th></th>\n      <th>PERMNO</th>\n      <th>date</th>\n      <th>SHRCD</th>\n      <th>PERMCO</th>\n      <th>DISTCD</th>\n      <th>DIVAMT</th>\n      <th>PRC</th>\n      <th>VOL</th>\n      <th>RET</th>\n      <th>BID</th>\n      <th>ASK</th>\n      <th>SHROUT</th>\n      <th>OPENPRC</th>\n      <th>RETX</th>\n      <th>vwretd</th>\n      <th>MKT</th>\n    </tr>\n  </thead>\n  <tbody>\n    <tr>\n      <th>count</th>\n      <td>322567.000000</td>\n      <td>322567</td>\n      <td>322567.000000</td>\n      <td>322567.000000</td>\n      <td>322567.000000</td>\n      <td>322567.000000</td>\n      <td>322567.00000</td>\n      <td>3.225670e+05</td>\n      <td>322567.000000</td>\n      <td>192594.000000</td>\n      <td>192594.000000</td>\n      <td>3.225670e+05</td>\n      <td>181549.000000</td>\n      <td>322567.000000</td>\n      <td>322567.000000</td>\n      <td>3.225670e+05</td>\n    </tr>\n    <tr>\n      <th>mean</th>\n      <td>47261.920472</td>\n      <td>1995-01-14 20:40:07.760248192</td>\n      <td>10.871881</td>\n      <td>19186.866784</td>\n      <td>1232.696131</td>\n      <td>0.253194</td>\n      <td>37.29405</td>\n      <td>6.705685e+05</td>\n      <td>0.002409</td>\n      <td>39.678352</td>\n      <td>39.952865</td>\n      <td>1.054957e+05</td>\n      <td>40.949164</td>\n      <td>-0.005888</td>\n      <td>0.000430</td>\n      <td>5.238313e+06</td>\n    </tr>\n    <tr>\n      <th>min</th>\n      <td>10001.000000</td>\n      <td>1962-01-02 00:00:00</td>\n      <td>10.000000</td>\n      <td>4.000000</td>\n      <td>1202.000000</td>\n      <td>0.010000</td>\n      <td>1.01000</td>\n      <td>1.000000e+00</td>\n      <td>-0.729864</td>\n      <td>1.000000</td>\n      <td>1.010000</td>\n      <td>1.910000e+02</td>\n      <td>0.500000</td>\n      <td>-0.878553</td>\n      <td>-0.171346</td>\n      <td>5.000000e+04</td>\n    </tr>\n    <tr>\n      <th>25%</th>\n      <td>22955.000000</td>\n      <td>1982-11-12 00:00:00</td>\n      <td>11.000000</td>\n      <td>9449.000000</td>\n      <td>1232.000000</td>\n      <td>0.100000</td>\n      <td>18.71000</td>\n      <td>5.725000e+03</td>\n      <td>-0.008268</td>\n      <td>17.800000</td>\n      <td>18.070000</td>\n      <td>7.724000e+03</td>\n      <td>18.200000</td>\n      <td>-0.017045</td>\n      <td>-0.003954</td>\n      <td>1.671280e+05</td>\n    </tr>\n    <tr>\n      <th>50%</th>\n      <td>44329.000000</td>\n      <td>1995-06-14 00:00:00</td>\n      <td>11.000000</td>\n      <td>20834.000000</td>\n      <td>1232.000000</td>\n      <td>0.190000</td>\n      <td>28.20000</td>\n      <td>3.500000e+04</td>\n      <td>0.002105</td>\n      <td>27.850000</td>\n      <td>28.125000</td>\n      <td>2.016200e+04</td>\n      <td>28.750000</td>\n      <td>-0.005435</td>\n      <td>0.000806</td>\n      <td>5.288400e+05</td>\n    </tr>\n    <tr>\n      <th>75%</th>\n      <td>75333.000000</td>\n      <td>2008-05-28 00:00:00</td>\n      <td>11.000000</td>\n      <td>22449.000000</td>\n      <td>1232.000000</td>\n      <td>0.320000</td>\n      <td>42.87500</td>\n      <td>2.680610e+05</td>\n      <td>0.012213</td>\n      <td>44.550000</td>\n      <td>44.830000</td>\n      <td>6.124550e+04</td>\n      <td>46.062500</td>\n      <td>0.005025</td>\n      <td>0.005242</td>\n      <td>2.112365e+06</td>\n    </tr>\n    <tr>\n      <th>max</th>\n      <td>93429.000000</td>\n      <td>2023-06-30 00:00:00</td>\n      <td>11.000000</td>\n      <td>59543.000000</td>\n      <td>1294.000000</td>\n      <td>85.000000</td>\n      <td>4280.04004</td>\n      <td>4.634910e+08</td>\n      <td>0.696822</td>\n      <td>4261.959960</td>\n      <td>4280.040040</td>\n      <td>1.700180e+07</td>\n      <td>4411.959960</td>\n      <td>0.691589</td>\n      <td>0.114921</td>\n      <td>2.813308e+09</td>\n    </tr>\n    <tr>\n      <th>std</th>\n      <td>26574.565424</td>\n      <td>NaN</td>\n      <td>0.334223</td>\n      <td>12216.603207</td>\n      <td>5.719189</td>\n      <td>0.501875</td>\n      <td>54.72760</td>\n      <td>3.752105e+06</td>\n      <td>0.022643</td>\n      <td>67.430465</td>\n      <td>67.679871</td>\n      <td>4.347917e+05</td>\n      <td>69.597442</td>\n      <td>0.025614</td>\n      <td>0.010174</td>\n      <td>2.992906e+07</td>\n    </tr>\n  </tbody>\n</table>\n</div>"
     },
     "execution_count": 299,
     "metadata": {},
     "output_type": "execute_result"
    }
   ],
   "source": [
    "# show the results of data cleaning\n",
    "crsp.describe()"
   ],
   "metadata": {
    "collapsed": false,
    "ExecuteTime": {
     "end_time": "2023-10-03T02:35:16.345052600Z",
     "start_time": "2023-10-03T02:35:16.213492100Z"
    }
   }
  },
  {
   "cell_type": "markdown",
   "source": [
    "Question 2\n",
    "For each observation, calculate the closing price as of the prior day. You should be able to do this using the current PRC and the return. (Think about which return to use.) Create a column of (Pt-1 – Pt) / D. Describe the mean and range of this variable. In a markdown cell, discuss the findings – what does this variable signify? Is there a potential investment opportunity?"
   ],
   "metadata": {
    "collapsed": false
   }
  },
  {
   "cell_type": "code",
   "execution_count": 300,
   "outputs": [],
   "source": [
    "# reformat the original return formula to solve for Pt-1\n",
    "crsp['PrPRC'] = crsp['PRC']/(crsp['RETX']+1)"
   ],
   "metadata": {
    "collapsed": false,
    "ExecuteTime": {
     "end_time": "2023-10-03T02:35:16.359005300Z",
     "start_time": "2023-10-03T02:35:16.342062500Z"
    }
   }
  },
  {
   "cell_type": "code",
   "execution_count": 301,
   "outputs": [],
   "source": [
    "# create a column of (Pt-1 – Pt) / D.\n",
    "crsp['DIVDELTA'] = (crsp['PrPRC'] - crsp['PRC']) / crsp['DIVAMT']"
   ],
   "metadata": {
    "collapsed": false,
    "ExecuteTime": {
     "end_time": "2023-10-03T02:35:16.417102200Z",
     "start_time": "2023-10-03T02:35:16.357012200Z"
    }
   }
  },
  {
   "cell_type": "code",
   "execution_count": 302,
   "outputs": [
    {
     "data": {
      "text/plain": "count    322567.000000\nmean          0.658522\nstd          10.621310\nmin        -906.248481\n25%          -0.833365\n50%           0.736883\n75%           2.272746\nmax        1071.995035\nName: DIVDELTA, dtype: float64"
     },
     "execution_count": 302,
     "metadata": {},
     "output_type": "execute_result"
    }
   ],
   "source": [
    "# describe the mean and range of this variable\n",
    "crsp['DIVDELTA'].describe()"
   ],
   "metadata": {
    "collapsed": false,
    "ExecuteTime": {
     "end_time": "2023-10-03T02:35:16.446005700Z",
     "start_time": "2023-10-03T02:35:16.371962300Z"
    }
   }
  },
  {
   "cell_type": "markdown",
   "source": [
    "In a markdown cell, discuss the findings – what does this variable signify? Is there a potential investment opportunity?"
   ],
   "metadata": {
    "collapsed": false
   }
  },
  {
   "cell_type": "markdown",
   "source": [
    "Tha variable describes relative change in close price before the ex-dividend day and at the ex-dividend day.\n",
    "It might seem as a good investing opportunity, because on average (mean,0.658522) the price increases around the ex-dividend day, however by looking at large range min,-906.248481 : max,1071.995035 and large std = 10.621310, the strategy becomes increasingly risky, so sometimes we may even lose all of our funds from such price swings.\n"
   ],
   "metadata": {
    "collapsed": false
   }
  },
  {
   "cell_type": "code",
   "execution_count": 303,
   "outputs": [],
   "source": [
    "# upload t bill dataset\n",
    "irx = pd.read_csv('^IRX.csv',  parse_dates=[0], index_col=[0])\n",
    "irx['Tbill yield filled'] = irx['Close'].fillna(method='ffill')"
   ],
   "metadata": {
    "collapsed": false,
    "ExecuteTime": {
     "end_time": "2023-10-03T02:35:16.447002300Z",
     "start_time": "2023-10-03T02:35:16.388199400Z"
    }
   }
  },
  {
   "cell_type": "code",
   "execution_count": 304,
   "outputs": [
    {
     "name": "stdout",
     "output_type": "stream",
     "text": [
      "Date\n",
      "1960-01-04    1.0\n",
      "1960-01-05    1.0\n",
      "1960-01-06    1.0\n",
      "1960-01-07    1.0\n",
      "1960-01-08    1.0\n",
      "             ... \n",
      "2022-07-21    1.0\n",
      "2022-07-22    1.0\n",
      "2022-07-24    2.0\n",
      "2022-07-25    1.0\n",
      "2022-07-26    1.0\n",
      "Name: Nt, Length: 19450, dtype: float64\n"
     ]
    }
   ],
   "source": [
    "# compute Nt by checking difference between dates\n",
    "irx['Nt'] = irx.index.to_series().diff().dt.days.fillna(1)\n",
    "print(irx['Nt'])"
   ],
   "metadata": {
    "collapsed": false,
    "ExecuteTime": {
     "end_time": "2023-10-03T02:35:16.448995300Z",
     "start_time": "2023-10-03T02:35:16.420092100Z"
    }
   }
  },
  {
   "cell_type": "code",
   "execution_count": 305,
   "outputs": [
    {
     "data": {
      "text/plain": "Date\n1960-01-04    0.000124\n1960-01-05    0.000125\n1960-01-06    0.000128\n1960-01-07    0.000127\n1960-01-08    0.000126\n                ...   \n2022-07-21    0.000065\n2022-07-22    0.000065\n2022-07-24    0.000129\n2022-07-25    0.000066\n2022-07-26    0.000068\nName: rf, Length: 19450, dtype: float64"
     },
     "execution_count": 305,
     "metadata": {},
     "output_type": "execute_result"
    }
   ],
   "source": [
    "# find risk free rate\n",
    "irx['rf'] = irx['Tbill yield filled'] * irx['Nt']/36500\n",
    "irx['rf']"
   ],
   "metadata": {
    "collapsed": false,
    "ExecuteTime": {
     "end_time": "2023-10-03T02:35:16.463945400Z",
     "start_time": "2023-10-03T02:35:16.436039300Z"
    }
   }
  },
  {
   "cell_type": "code",
   "execution_count": 306,
   "outputs": [],
   "source": [
    "# filter irx based on date prior to merge\n",
    "start_date = crsp['date'].iloc[0]\n",
    "end_date = crsp['date'].iloc[-1]\n",
    "irx = irx[(irx.index >= start_date) & (irx.index <= end_date)]"
   ],
   "metadata": {
    "collapsed": false,
    "ExecuteTime": {
     "end_time": "2023-10-03T02:35:16.472916300Z",
     "start_time": "2023-10-03T02:35:16.450990100Z"
    }
   }
  },
  {
   "cell_type": "code",
   "execution_count": 308,
   "outputs": [],
   "source": [
    "# merge two datasets\n",
    "crsp = pd.merge(crsp, irx, left_on='date', right_on=irx.index, how='left')"
   ],
   "metadata": {
    "collapsed": false,
    "ExecuteTime": {
     "end_time": "2023-10-03T02:35:16.555638500Z",
     "start_time": "2023-10-03T02:35:16.482882200Z"
    }
   }
  },
  {
   "cell_type": "code",
   "execution_count": 307,
   "outputs": [],
   "source": [
    "# calculate daily returns\n",
    "crsp['DailyRets'] = (crsp['PRC'] - crsp['PrPRC']) / crsp['PrPRC']"
   ],
   "metadata": {
    "collapsed": false,
    "ExecuteTime": {
     "start_time": "2023-10-03T02:35:16.466935400Z"
    }
   }
  },
  {
   "cell_type": "code",
   "execution_count": 309,
   "outputs": [
    {
     "data": {
      "text/plain": "              PERMNO                           date          SHRCD  \\\ncount  322567.000000                         322567  322567.000000   \nmean    47261.920472  1995-01-14 20:40:07.760248192      10.871881   \nmin     10001.000000            1962-01-02 00:00:00      10.000000   \n25%     22955.000000            1982-11-12 00:00:00      11.000000   \n50%     44329.000000            1995-06-14 00:00:00      11.000000   \n75%     75333.000000            2008-05-28 00:00:00      11.000000   \nmax     93429.000000            2023-06-30 00:00:00      11.000000   \nstd     26574.565424                            NaN       0.334223   \n\n              PERMCO         DISTCD         DIVAMT           PRC  \\\ncount  322567.000000  322567.000000  322567.000000  322567.00000   \nmean    19186.866784    1232.696131       0.253194      37.29405   \nmin         4.000000    1202.000000       0.010000       1.01000   \n25%      9449.000000    1232.000000       0.100000      18.71000   \n50%     20834.000000    1232.000000       0.190000      28.20000   \n75%     22449.000000    1232.000000       0.320000      42.87500   \nmax     59543.000000    1294.000000      85.000000    4280.04004   \nstd     12216.603207       5.719189       0.501875      54.72760   \n\n                VOL            RET            BID  ...      DailyRets  \\\ncount  3.225670e+05  322567.000000  192594.000000  ...  322567.000000   \nmean   6.705685e+05       0.002409      39.678352  ...      -0.005888   \nmin    1.000000e+00      -0.729864       1.000000  ...      -0.878553   \n25%    5.725000e+03      -0.008268      17.800000  ...      -0.017045   \n50%    3.500000e+04       0.002105      27.850000  ...      -0.005435   \n75%    2.680610e+05       0.012213      44.550000  ...       0.005025   \nmax    4.634910e+08       0.696822    4261.959960  ...       0.691589   \nstd    3.752105e+06       0.022643      67.430465  ...       0.025614   \n\n               Open          High           Low         Close     Adj Close  \\\ncount  66008.000000  66008.000000  66008.000000  66008.000000  66008.000000   \nmean       0.986197      0.991757      0.524655      0.529674      0.529674   \nmin       -0.108000     -0.100000     -0.235000     -0.105000     -0.105000   \n25%        0.040000      0.040000      0.035000      0.038000      0.038000   \n50%        0.105000      0.105000      0.100000      0.100000      0.100000   \n75%        0.900000      0.915000      0.890000      0.905000      0.905000   \nmax     3000.002930   3000.002930      2.403000      2.475000      2.475000   \nstd       36.923778     36.923755      0.746848      0.748044      0.748044   \n\n        Volume  Tbill yield filled            Nt            rf  \ncount  66008.0        66008.000000  66008.000000  66008.000000  \nmean       0.0            0.529674      1.020664      0.000015  \nmin        0.0           -0.105000      1.000000     -0.000003  \n25%        0.0            0.038000      1.000000      0.000001  \n50%        0.0            0.100000      1.000000      0.000003  \n75%        0.0            0.905000      1.000000      0.000025  \nmax        0.0            2.475000      3.000000      0.000130  \nstd        0.0            0.748044      0.147282      0.000022  \n\n[8 rows x 28 columns]",
      "text/html": "<div>\n<style scoped>\n    .dataframe tbody tr th:only-of-type {\n        vertical-align: middle;\n    }\n\n    .dataframe tbody tr th {\n        vertical-align: top;\n    }\n\n    .dataframe thead th {\n        text-align: right;\n    }\n</style>\n<table border=\"1\" class=\"dataframe\">\n  <thead>\n    <tr style=\"text-align: right;\">\n      <th></th>\n      <th>PERMNO</th>\n      <th>date</th>\n      <th>SHRCD</th>\n      <th>PERMCO</th>\n      <th>DISTCD</th>\n      <th>DIVAMT</th>\n      <th>PRC</th>\n      <th>VOL</th>\n      <th>RET</th>\n      <th>BID</th>\n      <th>...</th>\n      <th>DailyRets</th>\n      <th>Open</th>\n      <th>High</th>\n      <th>Low</th>\n      <th>Close</th>\n      <th>Adj Close</th>\n      <th>Volume</th>\n      <th>Tbill yield filled</th>\n      <th>Nt</th>\n      <th>rf</th>\n    </tr>\n  </thead>\n  <tbody>\n    <tr>\n      <th>count</th>\n      <td>322567.000000</td>\n      <td>322567</td>\n      <td>322567.000000</td>\n      <td>322567.000000</td>\n      <td>322567.000000</td>\n      <td>322567.000000</td>\n      <td>322567.00000</td>\n      <td>3.225670e+05</td>\n      <td>322567.000000</td>\n      <td>192594.000000</td>\n      <td>...</td>\n      <td>322567.000000</td>\n      <td>66008.000000</td>\n      <td>66008.000000</td>\n      <td>66008.000000</td>\n      <td>66008.000000</td>\n      <td>66008.000000</td>\n      <td>66008.0</td>\n      <td>66008.000000</td>\n      <td>66008.000000</td>\n      <td>66008.000000</td>\n    </tr>\n    <tr>\n      <th>mean</th>\n      <td>47261.920472</td>\n      <td>1995-01-14 20:40:07.760248192</td>\n      <td>10.871881</td>\n      <td>19186.866784</td>\n      <td>1232.696131</td>\n      <td>0.253194</td>\n      <td>37.29405</td>\n      <td>6.705685e+05</td>\n      <td>0.002409</td>\n      <td>39.678352</td>\n      <td>...</td>\n      <td>-0.005888</td>\n      <td>0.986197</td>\n      <td>0.991757</td>\n      <td>0.524655</td>\n      <td>0.529674</td>\n      <td>0.529674</td>\n      <td>0.0</td>\n      <td>0.529674</td>\n      <td>1.020664</td>\n      <td>0.000015</td>\n    </tr>\n    <tr>\n      <th>min</th>\n      <td>10001.000000</td>\n      <td>1962-01-02 00:00:00</td>\n      <td>10.000000</td>\n      <td>4.000000</td>\n      <td>1202.000000</td>\n      <td>0.010000</td>\n      <td>1.01000</td>\n      <td>1.000000e+00</td>\n      <td>-0.729864</td>\n      <td>1.000000</td>\n      <td>...</td>\n      <td>-0.878553</td>\n      <td>-0.108000</td>\n      <td>-0.100000</td>\n      <td>-0.235000</td>\n      <td>-0.105000</td>\n      <td>-0.105000</td>\n      <td>0.0</td>\n      <td>-0.105000</td>\n      <td>1.000000</td>\n      <td>-0.000003</td>\n    </tr>\n    <tr>\n      <th>25%</th>\n      <td>22955.000000</td>\n      <td>1982-11-12 00:00:00</td>\n      <td>11.000000</td>\n      <td>9449.000000</td>\n      <td>1232.000000</td>\n      <td>0.100000</td>\n      <td>18.71000</td>\n      <td>5.725000e+03</td>\n      <td>-0.008268</td>\n      <td>17.800000</td>\n      <td>...</td>\n      <td>-0.017045</td>\n      <td>0.040000</td>\n      <td>0.040000</td>\n      <td>0.035000</td>\n      <td>0.038000</td>\n      <td>0.038000</td>\n      <td>0.0</td>\n      <td>0.038000</td>\n      <td>1.000000</td>\n      <td>0.000001</td>\n    </tr>\n    <tr>\n      <th>50%</th>\n      <td>44329.000000</td>\n      <td>1995-06-14 00:00:00</td>\n      <td>11.000000</td>\n      <td>20834.000000</td>\n      <td>1232.000000</td>\n      <td>0.190000</td>\n      <td>28.20000</td>\n      <td>3.500000e+04</td>\n      <td>0.002105</td>\n      <td>27.850000</td>\n      <td>...</td>\n      <td>-0.005435</td>\n      <td>0.105000</td>\n      <td>0.105000</td>\n      <td>0.100000</td>\n      <td>0.100000</td>\n      <td>0.100000</td>\n      <td>0.0</td>\n      <td>0.100000</td>\n      <td>1.000000</td>\n      <td>0.000003</td>\n    </tr>\n    <tr>\n      <th>75%</th>\n      <td>75333.000000</td>\n      <td>2008-05-28 00:00:00</td>\n      <td>11.000000</td>\n      <td>22449.000000</td>\n      <td>1232.000000</td>\n      <td>0.320000</td>\n      <td>42.87500</td>\n      <td>2.680610e+05</td>\n      <td>0.012213</td>\n      <td>44.550000</td>\n      <td>...</td>\n      <td>0.005025</td>\n      <td>0.900000</td>\n      <td>0.915000</td>\n      <td>0.890000</td>\n      <td>0.905000</td>\n      <td>0.905000</td>\n      <td>0.0</td>\n      <td>0.905000</td>\n      <td>1.000000</td>\n      <td>0.000025</td>\n    </tr>\n    <tr>\n      <th>max</th>\n      <td>93429.000000</td>\n      <td>2023-06-30 00:00:00</td>\n      <td>11.000000</td>\n      <td>59543.000000</td>\n      <td>1294.000000</td>\n      <td>85.000000</td>\n      <td>4280.04004</td>\n      <td>4.634910e+08</td>\n      <td>0.696822</td>\n      <td>4261.959960</td>\n      <td>...</td>\n      <td>0.691589</td>\n      <td>3000.002930</td>\n      <td>3000.002930</td>\n      <td>2.403000</td>\n      <td>2.475000</td>\n      <td>2.475000</td>\n      <td>0.0</td>\n      <td>2.475000</td>\n      <td>3.000000</td>\n      <td>0.000130</td>\n    </tr>\n    <tr>\n      <th>std</th>\n      <td>26574.565424</td>\n      <td>NaN</td>\n      <td>0.334223</td>\n      <td>12216.603207</td>\n      <td>5.719189</td>\n      <td>0.501875</td>\n      <td>54.72760</td>\n      <td>3.752105e+06</td>\n      <td>0.022643</td>\n      <td>67.430465</td>\n      <td>...</td>\n      <td>0.025614</td>\n      <td>36.923778</td>\n      <td>36.923755</td>\n      <td>0.746848</td>\n      <td>0.748044</td>\n      <td>0.748044</td>\n      <td>0.0</td>\n      <td>0.748044</td>\n      <td>0.147282</td>\n      <td>0.000022</td>\n    </tr>\n  </tbody>\n</table>\n<p>8 rows × 28 columns</p>\n</div>"
     },
     "execution_count": 309,
     "metadata": {},
     "output_type": "execute_result"
    }
   ],
   "source": [
    "# check if all looks good\n",
    "crsp.describe()"
   ],
   "metadata": {
    "collapsed": false,
    "ExecuteTime": {
     "end_time": "2023-10-03T02:35:16.782892600Z",
     "start_time": "2023-10-03T02:35:16.545672100Z"
    }
   }
  },
  {
   "cell_type": "code",
   "execution_count": 310,
   "outputs": [],
   "source": [
    "# calculate excess returns\n",
    "crsp['ExcessRets'] = crsp['DailyRets'] - crsp['rf']"
   ],
   "metadata": {
    "collapsed": false,
    "ExecuteTime": {
     "end_time": "2023-10-03T02:35:16.798869700Z",
     "start_time": "2023-10-03T02:35:16.780898700Z"
    }
   }
  },
  {
   "cell_type": "code",
   "execution_count": 311,
   "outputs": [
    {
     "data": {
      "text/plain": "-0.7774552194719779"
     },
     "execution_count": 311,
     "metadata": {},
     "output_type": "execute_result"
    }
   ],
   "source": [
    "# calculate annualized_return\n",
    "annualized_return = (1 + crsp['ExcessRets'].mean())**252 - 1\n",
    "annualized_return"
   ],
   "metadata": {
    "collapsed": false,
    "ExecuteTime": {
     "end_time": "2023-10-03T02:35:16.860046700Z",
     "start_time": "2023-10-03T02:35:16.795879500Z"
    }
   }
  },
  {
   "cell_type": "code",
   "execution_count": 312,
   "outputs": [
    {
     "data": {
      "text/plain": "0.4198221502660796"
     },
     "execution_count": 312,
     "metadata": {},
     "output_type": "execute_result"
    }
   ],
   "source": [
    "# calculate std\n",
    "annualized_std_dev = crsp['ExcessRets'].std() * (252**0.5)\n",
    "annualized_std_dev"
   ],
   "metadata": {
    "collapsed": false,
    "ExecuteTime": {
     "end_time": "2023-10-03T02:35:16.888396200Z",
     "start_time": "2023-10-03T02:35:16.810829600Z"
    }
   }
  },
  {
   "cell_type": "code",
   "execution_count": 316,
   "outputs": [
    {
     "data": {
      "text/plain": "-1.8648299339503336"
     },
     "execution_count": 316,
     "metadata": {},
     "output_type": "execute_result"
    }
   ],
   "source": [
    "# find sharpe ratio\n",
    "sharpe_ratio = (annualized_return - crsp['rf']*365) / annualized_std_dev\n",
    "sharpe_ratio.mean()"
   ],
   "metadata": {
    "collapsed": false,
    "ExecuteTime": {
     "end_time": "2023-10-03T02:37:09.058974900Z",
     "start_time": "2023-10-03T02:37:09.006780700Z"
    }
   }
  },
  {
   "cell_type": "markdown",
   "source": [
    "Conclusion: the strategy is not working"
   ],
   "metadata": {
    "collapsed": false
   }
  }
 ]
}
